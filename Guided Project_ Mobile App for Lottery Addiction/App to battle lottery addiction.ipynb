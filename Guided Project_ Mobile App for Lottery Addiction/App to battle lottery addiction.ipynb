{
 "cells": [
  {
   "cell_type": "markdown",
   "metadata": {},
   "source": [
    "# Battling addiction to lotteries\n",
    "Every year people's lives get derailed by the thought of winning the lottery, slowly they start to put more money into lottery tickets. In the end people even resort to stealing and other crime in order to get the money they need to buy their desired tickets. \n",
    "\n",
    "Our goal here is to build a simple app for a medical institute. We will hope that lottery addicted people will see their actual chances in a lottery. All this is done hoping that they will realize their terrible odds and give up their dangerous habits. "
   ]
  },
  {
   "cell_type": "code",
   "execution_count": 1,
   "metadata": {},
   "outputs": [
    {
     "name": "stdout",
     "output_type": "stream",
     "text": [
      "120\n"
     ]
    }
   ],
   "source": [
    "#We will firstly define two probability functions we will use a lot.\n",
    "def factorial(n):\n",
    "    final_product = 1\n",
    "    for i in range(n, 0, -1):\n",
    "        final_product *= i\n",
    "    return final_product\n",
    "    \n",
    "#The first is for factorials this is 5!\n",
    "print(factorial(5))    "
   ]
  },
  {
   "cell_type": "code",
   "execution_count": 2,
   "metadata": {},
   "outputs": [
    {
     "name": "stdout",
     "output_type": "stream",
     "text": [
      "10.0\n"
     ]
    }
   ],
   "source": [
    "#The second is for combinations\n",
    "def combination(n,k):\n",
    "    return factorial(n)/(factorial(k)*factorial(n-k))\n",
    "\n",
    "#This should be C\n",
    "print(combination(5,3))"
   ]
  },
  {
   "cell_type": "code",
   "execution_count": 3,
   "metadata": {},
   "outputs": [
    {
     "name": "stdout",
     "output_type": "stream",
     "text": [
      "The chances for your ticket winning the big prize are 1 in 13,983,816.\n"
     ]
    }
   ],
   "source": [
    "#Let's create a function now to see what the chances are for a specific lottery ticket.\n",
    "#The lottery ticket has six numbers and there are 49 numbers in the game. \n",
    "def one_ticket_probability(a,b,c,d,e,f):\n",
    "    ticket = [a,b,c,d,e,f]\n",
    "    if (max(ticket) > 49):\n",
    "        return print(\"That is not a valid lottery ticket.\")\n",
    "    else:\n",
    "        p = int(combination(49,6))\n",
    "        return print(\"The chances for your ticket winning the big prize are 1 in {:,}.\".format(p))\n",
    "\n",
    "one_ticket_probability(34,49,5,3,2,1)"
   ]
  },
  {
   "cell_type": "code",
   "execution_count": 4,
   "metadata": {},
   "outputs": [
    {
     "name": "stdout",
     "output_type": "stream",
     "text": [
      "That is not a valid lottery ticket.\n"
     ]
    }
   ],
   "source": [
    "#let's make a false ticket\n",
    "one_ticket_probability(10,20,30,40,50,49)"
   ]
  },
  {
   "cell_type": "code",
   "execution_count": 5,
   "metadata": {},
   "outputs": [
    {
     "name": "stdout",
     "output_type": "stream",
     "text": [
      "<class 'pandas.core.frame.DataFrame'>\n",
      "RangeIndex: 3665 entries, 0 to 3664\n",
      "Data columns (total 11 columns):\n",
      " #   Column           Non-Null Count  Dtype \n",
      "---  ------           --------------  ----- \n",
      " 0   PRODUCT          3665 non-null   int64 \n",
      " 1   DRAW NUMBER      3665 non-null   int64 \n",
      " 2   SEQUENCE NUMBER  3665 non-null   int64 \n",
      " 3   DRAW DATE        3665 non-null   object\n",
      " 4   NUMBER DRAWN 1   3665 non-null   int64 \n",
      " 5   NUMBER DRAWN 2   3665 non-null   int64 \n",
      " 6   NUMBER DRAWN 3   3665 non-null   int64 \n",
      " 7   NUMBER DRAWN 4   3665 non-null   int64 \n",
      " 8   NUMBER DRAWN 5   3665 non-null   int64 \n",
      " 9   NUMBER DRAWN 6   3665 non-null   int64 \n",
      " 10  BONUS NUMBER     3665 non-null   int64 \n",
      "dtypes: int64(10), object(1)\n",
      "memory usage: 315.1+ KB\n"
     ]
    }
   ],
   "source": [
    "#Now we will compare this data with the historical data of all the lotteries from 1982-2018\n",
    "#First read in the data using pandas\n",
    "import pandas as pd\n",
    "drawings = pd.read_csv('649.csv')\n",
    "drawings.info()"
   ]
  },
  {
   "cell_type": "code",
   "execution_count": 6,
   "metadata": {},
   "outputs": [
    {
     "data": {
      "text/html": [
       "<div>\n",
       "<style scoped>\n",
       "    .dataframe tbody tr th:only-of-type {\n",
       "        vertical-align: middle;\n",
       "    }\n",
       "\n",
       "    .dataframe tbody tr th {\n",
       "        vertical-align: top;\n",
       "    }\n",
       "\n",
       "    .dataframe thead th {\n",
       "        text-align: right;\n",
       "    }\n",
       "</style>\n",
       "<table border=\"1\" class=\"dataframe\">\n",
       "  <thead>\n",
       "    <tr style=\"text-align: right;\">\n",
       "      <th></th>\n",
       "      <th>PRODUCT</th>\n",
       "      <th>DRAW NUMBER</th>\n",
       "      <th>SEQUENCE NUMBER</th>\n",
       "      <th>DRAW DATE</th>\n",
       "      <th>NUMBER DRAWN 1</th>\n",
       "      <th>NUMBER DRAWN 2</th>\n",
       "      <th>NUMBER DRAWN 3</th>\n",
       "      <th>NUMBER DRAWN 4</th>\n",
       "      <th>NUMBER DRAWN 5</th>\n",
       "      <th>NUMBER DRAWN 6</th>\n",
       "      <th>BONUS NUMBER</th>\n",
       "    </tr>\n",
       "  </thead>\n",
       "  <tbody>\n",
       "    <tr>\n",
       "      <th>0</th>\n",
       "      <td>649</td>\n",
       "      <td>1</td>\n",
       "      <td>0</td>\n",
       "      <td>6/12/1982</td>\n",
       "      <td>3</td>\n",
       "      <td>11</td>\n",
       "      <td>12</td>\n",
       "      <td>14</td>\n",
       "      <td>41</td>\n",
       "      <td>43</td>\n",
       "      <td>13</td>\n",
       "    </tr>\n",
       "    <tr>\n",
       "      <th>1</th>\n",
       "      <td>649</td>\n",
       "      <td>2</td>\n",
       "      <td>0</td>\n",
       "      <td>6/19/1982</td>\n",
       "      <td>8</td>\n",
       "      <td>33</td>\n",
       "      <td>36</td>\n",
       "      <td>37</td>\n",
       "      <td>39</td>\n",
       "      <td>41</td>\n",
       "      <td>9</td>\n",
       "    </tr>\n",
       "    <tr>\n",
       "      <th>2</th>\n",
       "      <td>649</td>\n",
       "      <td>3</td>\n",
       "      <td>0</td>\n",
       "      <td>6/26/1982</td>\n",
       "      <td>1</td>\n",
       "      <td>6</td>\n",
       "      <td>23</td>\n",
       "      <td>24</td>\n",
       "      <td>27</td>\n",
       "      <td>39</td>\n",
       "      <td>34</td>\n",
       "    </tr>\n",
       "  </tbody>\n",
       "</table>\n",
       "</div>"
      ],
      "text/plain": [
       "   PRODUCT  DRAW NUMBER  SEQUENCE NUMBER  DRAW DATE  NUMBER DRAWN 1  \\\n",
       "0      649            1                0  6/12/1982               3   \n",
       "1      649            2                0  6/19/1982               8   \n",
       "2      649            3                0  6/26/1982               1   \n",
       "\n",
       "   NUMBER DRAWN 2  NUMBER DRAWN 3  NUMBER DRAWN 4  NUMBER DRAWN 5  \\\n",
       "0              11              12              14              41   \n",
       "1              33              36              37              39   \n",
       "2               6              23              24              27   \n",
       "\n",
       "   NUMBER DRAWN 6  BONUS NUMBER  \n",
       "0              43            13  \n",
       "1              41             9  \n",
       "2              39            34  "
      ]
     },
     "execution_count": 6,
     "metadata": {},
     "output_type": "execute_result"
    }
   ],
   "source": [
    "drawings.head(3)"
   ]
  },
  {
   "cell_type": "code",
   "execution_count": 7,
   "metadata": {},
   "outputs": [
    {
     "data": {
      "text/html": [
       "<div>\n",
       "<style scoped>\n",
       "    .dataframe tbody tr th:only-of-type {\n",
       "        vertical-align: middle;\n",
       "    }\n",
       "\n",
       "    .dataframe tbody tr th {\n",
       "        vertical-align: top;\n",
       "    }\n",
       "\n",
       "    .dataframe thead th {\n",
       "        text-align: right;\n",
       "    }\n",
       "</style>\n",
       "<table border=\"1\" class=\"dataframe\">\n",
       "  <thead>\n",
       "    <tr style=\"text-align: right;\">\n",
       "      <th></th>\n",
       "      <th>PRODUCT</th>\n",
       "      <th>DRAW NUMBER</th>\n",
       "      <th>SEQUENCE NUMBER</th>\n",
       "      <th>DRAW DATE</th>\n",
       "      <th>NUMBER DRAWN 1</th>\n",
       "      <th>NUMBER DRAWN 2</th>\n",
       "      <th>NUMBER DRAWN 3</th>\n",
       "      <th>NUMBER DRAWN 4</th>\n",
       "      <th>NUMBER DRAWN 5</th>\n",
       "      <th>NUMBER DRAWN 6</th>\n",
       "      <th>BONUS NUMBER</th>\n",
       "    </tr>\n",
       "  </thead>\n",
       "  <tbody>\n",
       "    <tr>\n",
       "      <th>3662</th>\n",
       "      <td>649</td>\n",
       "      <td>3589</td>\n",
       "      <td>0</td>\n",
       "      <td>6/13/2018</td>\n",
       "      <td>6</td>\n",
       "      <td>22</td>\n",
       "      <td>24</td>\n",
       "      <td>31</td>\n",
       "      <td>32</td>\n",
       "      <td>34</td>\n",
       "      <td>16</td>\n",
       "    </tr>\n",
       "    <tr>\n",
       "      <th>3663</th>\n",
       "      <td>649</td>\n",
       "      <td>3590</td>\n",
       "      <td>0</td>\n",
       "      <td>6/16/2018</td>\n",
       "      <td>2</td>\n",
       "      <td>15</td>\n",
       "      <td>21</td>\n",
       "      <td>31</td>\n",
       "      <td>38</td>\n",
       "      <td>49</td>\n",
       "      <td>8</td>\n",
       "    </tr>\n",
       "    <tr>\n",
       "      <th>3664</th>\n",
       "      <td>649</td>\n",
       "      <td>3591</td>\n",
       "      <td>0</td>\n",
       "      <td>6/20/2018</td>\n",
       "      <td>14</td>\n",
       "      <td>24</td>\n",
       "      <td>31</td>\n",
       "      <td>35</td>\n",
       "      <td>37</td>\n",
       "      <td>48</td>\n",
       "      <td>17</td>\n",
       "    </tr>\n",
       "  </tbody>\n",
       "</table>\n",
       "</div>"
      ],
      "text/plain": [
       "      PRODUCT  DRAW NUMBER  SEQUENCE NUMBER  DRAW DATE  NUMBER DRAWN 1  \\\n",
       "3662      649         3589                0  6/13/2018               6   \n",
       "3663      649         3590                0  6/16/2018               2   \n",
       "3664      649         3591                0  6/20/2018              14   \n",
       "\n",
       "      NUMBER DRAWN 2  NUMBER DRAWN 3  NUMBER DRAWN 4  NUMBER DRAWN 5  \\\n",
       "3662              22              24              31              32   \n",
       "3663              15              21              31              38   \n",
       "3664              24              31              35              37   \n",
       "\n",
       "      NUMBER DRAWN 6  BONUS NUMBER  \n",
       "3662              34            16  \n",
       "3663              49             8  \n",
       "3664              48            17  "
      ]
     },
     "execution_count": 7,
     "metadata": {},
     "output_type": "execute_result"
    }
   ],
   "source": [
    "drawings.tail(3)"
   ]
  },
  {
   "cell_type": "code",
   "execution_count": 8,
   "metadata": {},
   "outputs": [
    {
     "data": {
      "text/plain": [
       "{8, 33, 36, 37, 39, 41}"
      ]
     },
     "execution_count": 8,
     "metadata": {},
     "output_type": "execute_result"
    }
   ],
   "source": [
    "#Right now I will write a function to check if a ticket would have won in history.\n",
    "def extract_numbers(row):\n",
    "    row = row[4:10]\n",
    "    row = set(list(row))\n",
    "    return row\n",
    "\n",
    "extract_numbers(drawings.iloc[1])"
   ]
  },
  {
   "cell_type": "code",
   "execution_count": 9,
   "metadata": {},
   "outputs": [
    {
     "data": {
      "text/plain": [
       "{21, 22, 29, 36, 38, 41}"
      ]
     },
     "execution_count": 9,
     "metadata": {},
     "output_type": "execute_result"
    }
   ],
   "source": [
    "extract_numbers(drawings.iloc[120])"
   ]
  },
  {
   "cell_type": "code",
   "execution_count": 10,
   "metadata": {},
   "outputs": [
    {
     "data": {
      "text/plain": [
       "0    {3, 41, 11, 12, 43, 14}\n",
       "1    {33, 36, 37, 39, 8, 41}\n",
       "2     {1, 6, 39, 23, 24, 27}\n",
       "3     {3, 9, 10, 43, 13, 20}\n",
       "4    {34, 5, 14, 47, 21, 31}\n",
       "dtype: object"
      ]
     },
     "execution_count": 10,
     "metadata": {},
     "output_type": "execute_result"
    }
   ],
   "source": [
    "#Now we can create an extra column with all the winsets\n",
    "winning_numbers = drawings.apply(extract_numbers, axis=1)\n",
    "    \n",
    "winning_numbers.head()"
   ]
  },
  {
   "cell_type": "markdown",
   "metadata": {},
   "source": [
    "Now we have a bite sized variable which stores all the winners in history!"
   ]
  },
  {
   "cell_type": "code",
   "execution_count": 11,
   "metadata": {},
   "outputs": [
    {
     "name": "stdout",
     "output_type": "stream",
     "text": [
      "The combination has never occurred before.\n",
      "However this does not result in any bigger chance. Your chance to win the big prize is still 1 in 13,983,816\n"
     ]
    }
   ],
   "source": [
    "#Now in another function we can define the historical occurence of the winsets\n",
    "def check_historical_occurence(ticket,historical_numbers):\n",
    "    '''\n",
    "    The ticket input should be a list of numbers.\n",
    "    The historical_numbers are the winsets from the past. \n",
    "    '''\n",
    "    ticket = set(ticket)\n",
    "    occ = historical_numbers == ticket\n",
    "    counter = occ.sum()\n",
    "    if counter == 0:\n",
    "        print('''The combination has never occurred before.\n",
    "However this does not result in any bigger chance. Your chance to win the big prize is still 1 in 13,983,816''')\n",
    "    else:\n",
    "        print('''The combination has occurred {} times before. Fortunately this does not mean that your chances have diminished.\n",
    "Your chance to win the big prize is still 1 in 13,983,816'''.format(counter))\n",
    "        \n",
    "check_historical_occurence([1,2,3,4,5,6],winning_numbers)        "
   ]
  },
  {
   "cell_type": "code",
   "execution_count": 12,
   "metadata": {},
   "outputs": [
    {
     "name": "stdout",
     "output_type": "stream",
     "text": [
      "The combination has occurred 1 times before. Fortunately this does not mean that your chances have diminished.\n",
      "Your chance to win the big prize is still 1 in 13,983,816\n"
     ]
    }
   ],
   "source": [
    "check_historical_occurence([1,6,39,23,24,27],winning_numbers)"
   ]
  },
  {
   "cell_type": "markdown",
   "metadata": {},
   "source": [
    "What a shocker! 1,2,3,4,5,6 has never occurred before. What we have been doing up to now is creating functionalities for the app. The text points to the direction that the chances are still extremely slim. But on the other hand the user gets some neat information about the past.\n",
    "\n",
    "Next, we will write a function for our app to check the chances for more tickets."
   ]
  },
  {
   "cell_type": "code",
   "execution_count": 13,
   "metadata": {},
   "outputs": [
    {
     "name": "stdout",
     "output_type": "stream",
     "text": [
      "The amount is too high.\n"
     ]
    }
   ],
   "source": [
    "def multi_ticket_probability(t):\n",
    "    if t > combination(49,6):\n",
    "        print('The amount is too high.')\n",
    "    else:\n",
    "        c = t/combination(49,6)\n",
    "        p = c*100\n",
    "        n = float(combination(49,6)/t)\n",
    "        n = round(n)\n",
    "        pr = t*3 #in order to show the ticket price which is $3 per ticket.\n",
    "        print('''You have spent ${} on tickets now. \\nThe chance for winning the big prize with {} tickets is: {:f}%.\n",
    "Or in other words: 1 in {:}'''.format(pr,t,p,n))\n",
    "    \n",
    "multi_ticket_probability(6000000000000000000000)"
   ]
  },
  {
   "cell_type": "code",
   "execution_count": 14,
   "metadata": {},
   "outputs": [
    {
     "name": "stdout",
     "output_type": "stream",
     "text": [
      "You have spent $150 on tickets now. \n",
      "The chance for winning the big prize with 50 tickets is: 0.000358%.\n",
      "Or in other words: 1 in 279676\n"
     ]
    }
   ],
   "source": [
    "multi_ticket_probability(50)"
   ]
  },
  {
   "cell_type": "code",
   "execution_count": 15,
   "metadata": {},
   "outputs": [
    {
     "name": "stdout",
     "output_type": "stream",
     "text": [
      "You have spent $21000000 on tickets now. \n",
      "The chance for winning the big prize with 7000000 tickets is: 50.057867%.\n",
      "Or in other words: 1 in 2\n"
     ]
    }
   ],
   "source": [
    "multi_ticket_probability(7000000)"
   ]
  },
  {
   "cell_type": "markdown",
   "metadata": {},
   "source": [
    "We have made a calculator for the tickets, the money spent and the chances they have to win the big prize. The calculator immediately shows that for high amounts it is really now worth it. \n",
    "\n",
    "e.g. a millionaire buys \\\\$21M worth of tickets, then his chances are still only 50\\%. Considering that the big prize is often around the \\\\$14M. We can easily see it's not worth it.\n",
    "\n",
    "The last function we will define for the app is going to calculate the chances for having minor prizes, e.g. when you have exactly two numbers matching."
   ]
  },
  {
   "cell_type": "code",
   "execution_count": 16,
   "metadata": {},
   "outputs": [
    {
     "name": "stdout",
     "output_type": "stream",
     "text": [
      "Please use a number between 2 and 5\n"
     ]
    }
   ],
   "source": [
    "def less_than_6(i):\n",
    "    if not 1 < i <= 5:\n",
    "        print('''Please use a number between 2 and 5''')\n",
    "    else:\n",
    "        c_ticket = combination(6,i)\n",
    "        c_over = combination(43,(6-i)) - 1\n",
    "        p = (c_ticket*c_over)/combination(49,6)\n",
    "        pc = p*100\n",
    "        t = round(combination(49,6)/(c_ticket*c_over))\n",
    "        print('''Your chance to win a prize with {} right numbers are: {:.6f}%\n",
    "Or in other words 1 in {:,}'''.format(i,pc,int(t)))\n",
    "    \n",
    "less_than_6(1)"
   ]
  },
  {
   "cell_type": "code",
   "execution_count": 17,
   "metadata": {},
   "outputs": [
    {
     "name": "stdout",
     "output_type": "stream",
     "text": [
      "Your chance to win a prize with 5 right numbers are: 0.001802%\n",
      "Or in other words 1 in 55,491\n"
     ]
    }
   ],
   "source": [
    "less_than_6(5)"
   ]
  },
  {
   "cell_type": "code",
   "execution_count": 18,
   "metadata": {},
   "outputs": [
    {
     "name": "stdout",
     "output_type": "stream",
     "text": [
      "Your chance to win a prize with 2 right numbers are: 13.237696%\n",
      "Or in other words 1 in 8\n"
     ]
    }
   ],
   "source": [
    "less_than_6(2)"
   ]
  },
  {
   "cell_type": "markdown",
   "metadata": {},
   "source": [
    "That's it, here we have the functionalities for an app to beat lottery addiction."
   ]
  },
  {
   "cell_type": "code",
   "execution_count": null,
   "metadata": {},
   "outputs": [],
   "source": []
  }
 ],
 "metadata": {
  "kernelspec": {
   "display_name": "Python 3",
   "language": "python",
   "name": "python3"
  },
  "language_info": {
   "codemirror_mode": {
    "name": "ipython",
    "version": 3
   },
   "file_extension": ".py",
   "mimetype": "text/x-python",
   "name": "python",
   "nbconvert_exporter": "python",
   "pygments_lexer": "ipython3",
   "version": "3.7.6"
  }
 },
 "nbformat": 4,
 "nbformat_minor": 2
}
