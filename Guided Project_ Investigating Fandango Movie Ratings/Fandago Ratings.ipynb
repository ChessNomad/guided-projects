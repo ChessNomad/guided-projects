{
 "cells": [
  {
   "cell_type": "markdown",
   "metadata": {},
   "source": [
    "# Fandango movie ratings inflation checkup\n",
    "\n",
    "Back in 2015 the website FiveThirtyEight found that the ratings of the Fandango movie review site were inflated. You can read up a little more [here](https://fivethirtyeight.com/features/fandango-movies-ratings/). There are several online movie rating websites. Some of them have a jury and popular vote. Others have a purely popular vote. But the main claim the article is making is that the ratings are rounded above as a standard. Also, compared to the other websites like Rotten Tomatoes, IMDB and Metacritic, Fandango's ratings are heavily left skewed. Whereas the others are more like a normal distribution.\n",
    "\n",
    "After the abovementioned article Fandango reacted that they were not aware of the mistakes. They promised to improve the system, of course those improvements take time but at some point we have to be able to checkup. And that is where the ratings of 2016-2017 come in. Let's check if they followed up on their promises!"
   ]
  },
  {
   "cell_type": "code",
   "execution_count": 1,
   "metadata": {},
   "outputs": [],
   "source": [
    "#Importing libraries\n",
    "import numpy as np\n",
    "import pandas as pd\n",
    "import matplotlib.pyplot as plt\n",
    "import seaborn as sns"
   ]
  },
  {
   "cell_type": "code",
   "execution_count": 2,
   "metadata": {},
   "outputs": [
    {
     "name": "stdout",
     "output_type": "stream",
     "text": [
      "                             FILM  RottenTomatoes  RottenTomatoes_User  \\\n",
      "0  Avengers: Age of Ultron (2015)              74                   86   \n",
      "1               Cinderella (2015)              85                   80   \n",
      "2                  Ant-Man (2015)              80                   90   \n",
      "3          Do You Believe? (2015)              18                   84   \n",
      "4   Hot Tub Time Machine 2 (2015)              14                   28   \n",
      "\n",
      "   Metacritic  Metacritic_User  IMDB  Fandango_Stars  Fandango_Ratingvalue  \\\n",
      "0          66              7.1   7.8             5.0                   4.5   \n",
      "1          67              7.5   7.1             5.0                   4.5   \n",
      "2          64              8.1   7.8             5.0                   4.5   \n",
      "3          22              4.7   5.4             5.0                   4.5   \n",
      "4          29              3.4   5.1             3.5                   3.0   \n",
      "\n",
      "   RT_norm  RT_user_norm  ...  IMDB_norm  RT_norm_round  RT_user_norm_round  \\\n",
      "0     3.70           4.3  ...       3.90            3.5                 4.5   \n",
      "1     4.25           4.0  ...       3.55            4.5                 4.0   \n",
      "2     4.00           4.5  ...       3.90            4.0                 4.5   \n",
      "3     0.90           4.2  ...       2.70            1.0                 4.0   \n",
      "4     0.70           1.4  ...       2.55            0.5                 1.5   \n",
      "\n",
      "   Metacritic_norm_round  Metacritic_user_norm_round  IMDB_norm_round  \\\n",
      "0                    3.5                         3.5              4.0   \n",
      "1                    3.5                         4.0              3.5   \n",
      "2                    3.0                         4.0              4.0   \n",
      "3                    1.0                         2.5              2.5   \n",
      "4                    1.5                         1.5              2.5   \n",
      "\n",
      "   Metacritic_user_vote_count  IMDB_user_vote_count  Fandango_votes  \\\n",
      "0                        1330                271107           14846   \n",
      "1                         249                 65709           12640   \n",
      "2                         627                103660           12055   \n",
      "3                          31                  3136            1793   \n",
      "4                          88                 19560            1021   \n",
      "\n",
      "   Fandango_Difference  \n",
      "0                  0.5  \n",
      "1                  0.5  \n",
      "2                  0.5  \n",
      "3                  0.5  \n",
      "4                  0.5  \n",
      "\n",
      "[5 rows x 22 columns]\n"
     ]
    },
    {
     "data": {
      "text/html": [
       "<div>\n",
       "<style scoped>\n",
       "    .dataframe tbody tr th:only-of-type {\n",
       "        vertical-align: middle;\n",
       "    }\n",
       "\n",
       "    .dataframe tbody tr th {\n",
       "        vertical-align: top;\n",
       "    }\n",
       "\n",
       "    .dataframe thead th {\n",
       "        text-align: right;\n",
       "    }\n",
       "</style>\n",
       "<table border=\"1\" class=\"dataframe\">\n",
       "  <thead>\n",
       "    <tr style=\"text-align: right;\">\n",
       "      <th></th>\n",
       "      <th>movie</th>\n",
       "      <th>year</th>\n",
       "      <th>metascore</th>\n",
       "      <th>imdb</th>\n",
       "      <th>tmeter</th>\n",
       "      <th>audience</th>\n",
       "      <th>fandango</th>\n",
       "      <th>n_metascore</th>\n",
       "      <th>n_imdb</th>\n",
       "      <th>n_tmeter</th>\n",
       "      <th>n_audience</th>\n",
       "      <th>nr_metascore</th>\n",
       "      <th>nr_imdb</th>\n",
       "      <th>nr_tmeter</th>\n",
       "      <th>nr_audience</th>\n",
       "    </tr>\n",
       "  </thead>\n",
       "  <tbody>\n",
       "    <tr>\n",
       "      <th>0</th>\n",
       "      <td>10 Cloverfield Lane</td>\n",
       "      <td>2016</td>\n",
       "      <td>76</td>\n",
       "      <td>7.2</td>\n",
       "      <td>90</td>\n",
       "      <td>79</td>\n",
       "      <td>3.5</td>\n",
       "      <td>3.80</td>\n",
       "      <td>3.60</td>\n",
       "      <td>4.50</td>\n",
       "      <td>3.95</td>\n",
       "      <td>4.0</td>\n",
       "      <td>3.5</td>\n",
       "      <td>4.5</td>\n",
       "      <td>4.0</td>\n",
       "    </tr>\n",
       "    <tr>\n",
       "      <th>1</th>\n",
       "      <td>13 Hours</td>\n",
       "      <td>2016</td>\n",
       "      <td>48</td>\n",
       "      <td>7.3</td>\n",
       "      <td>50</td>\n",
       "      <td>83</td>\n",
       "      <td>4.5</td>\n",
       "      <td>2.40</td>\n",
       "      <td>3.65</td>\n",
       "      <td>2.50</td>\n",
       "      <td>4.15</td>\n",
       "      <td>2.5</td>\n",
       "      <td>3.5</td>\n",
       "      <td>2.5</td>\n",
       "      <td>4.0</td>\n",
       "    </tr>\n",
       "    <tr>\n",
       "      <th>2</th>\n",
       "      <td>A Cure for Wellness</td>\n",
       "      <td>2016</td>\n",
       "      <td>47</td>\n",
       "      <td>6.6</td>\n",
       "      <td>40</td>\n",
       "      <td>47</td>\n",
       "      <td>3.0</td>\n",
       "      <td>2.35</td>\n",
       "      <td>3.30</td>\n",
       "      <td>2.00</td>\n",
       "      <td>2.35</td>\n",
       "      <td>2.5</td>\n",
       "      <td>3.5</td>\n",
       "      <td>2.0</td>\n",
       "      <td>2.5</td>\n",
       "    </tr>\n",
       "    <tr>\n",
       "      <th>3</th>\n",
       "      <td>A Dog's Purpose</td>\n",
       "      <td>2017</td>\n",
       "      <td>43</td>\n",
       "      <td>5.2</td>\n",
       "      <td>33</td>\n",
       "      <td>76</td>\n",
       "      <td>4.5</td>\n",
       "      <td>2.15</td>\n",
       "      <td>2.60</td>\n",
       "      <td>1.65</td>\n",
       "      <td>3.80</td>\n",
       "      <td>2.0</td>\n",
       "      <td>2.5</td>\n",
       "      <td>1.5</td>\n",
       "      <td>4.0</td>\n",
       "    </tr>\n",
       "    <tr>\n",
       "      <th>4</th>\n",
       "      <td>A Hologram for the King</td>\n",
       "      <td>2016</td>\n",
       "      <td>58</td>\n",
       "      <td>6.1</td>\n",
       "      <td>70</td>\n",
       "      <td>57</td>\n",
       "      <td>3.0</td>\n",
       "      <td>2.90</td>\n",
       "      <td>3.05</td>\n",
       "      <td>3.50</td>\n",
       "      <td>2.85</td>\n",
       "      <td>3.0</td>\n",
       "      <td>3.0</td>\n",
       "      <td>3.5</td>\n",
       "      <td>3.0</td>\n",
       "    </tr>\n",
       "  </tbody>\n",
       "</table>\n",
       "</div>"
      ],
      "text/plain": [
       "                     movie  year  metascore  imdb  tmeter  audience  fandango  \\\n",
       "0      10 Cloverfield Lane  2016         76   7.2      90        79       3.5   \n",
       "1                 13 Hours  2016         48   7.3      50        83       4.5   \n",
       "2      A Cure for Wellness  2016         47   6.6      40        47       3.0   \n",
       "3          A Dog's Purpose  2017         43   5.2      33        76       4.5   \n",
       "4  A Hologram for the King  2016         58   6.1      70        57       3.0   \n",
       "\n",
       "   n_metascore  n_imdb  n_tmeter  n_audience  nr_metascore  nr_imdb  \\\n",
       "0         3.80    3.60      4.50        3.95           4.0      3.5   \n",
       "1         2.40    3.65      2.50        4.15           2.5      3.5   \n",
       "2         2.35    3.30      2.00        2.35           2.5      3.5   \n",
       "3         2.15    2.60      1.65        3.80           2.0      2.5   \n",
       "4         2.90    3.05      3.50        2.85           3.0      3.0   \n",
       "\n",
       "   nr_tmeter  nr_audience  \n",
       "0        4.5          4.0  \n",
       "1        2.5          4.0  \n",
       "2        2.0          2.5  \n",
       "3        1.5          4.0  \n",
       "4        3.5          3.0  "
      ]
     },
     "execution_count": 2,
     "metadata": {},
     "output_type": "execute_result"
    }
   ],
   "source": [
    "#Let's read in and scan our data quickly\n",
    "fd_before = pd.read_csv(\"fandango_score_comparison.csv\")\n",
    "fd_after = pd.read_csv(\"movie_ratings_16_17.csv\")\n",
    "print(fd_before.head())\n",
    "fd_after.head()"
   ]
  },
  {
   "cell_type": "code",
   "execution_count": 3,
   "metadata": {},
   "outputs": [],
   "source": [
    "#There are lots of columns not relevant. Therefore I will save the most relevant columns to two new variables.\n",
    "before = fd_before[[\"FILM\",\"Fandango_Stars\", \"Fandango_Ratingvalue\", \"Fandango_votes\", \"Fandango_Difference\"]]\n",
    "after = fd_after[[\"movie\",\"year\",\"fandango\"]]"
   ]
  },
  {
   "cell_type": "markdown",
   "metadata": {},
   "source": [
    "### Sample from 2017\n",
    "It should be noted that for the Fandango ratings in our 'after' file the author of the data only took the 214 most popular movies. Which means we are not dealing with a random sample. If the population of movies is distributed in a normal way, then selecting the most popular movies only will most likely affect the result. Hence one would expect the graph to be skewed to the left.\n",
    "\n",
    "Another thing we can see quickly about the 'after' data is that it contains only the data of the stars given, therefore it might be difficult to compare the argument of rounding. \n",
    "\n",
    "The 'before' data on the other hand does have the difference between stars and actual rating. And more it has generated the sample from all the movies from 2015. Therefore we can say the 'before' sample is more representative."
   ]
  },
  {
   "cell_type": "markdown",
   "metadata": {},
   "source": [
    "# A new way\n",
    "\n",
    "On the other hand we should not let a good web scraping session and some good data go to waste. So we need to tweak our goal a bit. One way to do it is to limit the original sample to only the n most popular movies from 2015. We would still not be able to get the ratings as accurately as the data from 2015. But we would be able to compare the star ratings. Most probably if the rounding function has been repaired, and a 4.1 does not become a 4.5 anymore. Then we would see a lot less 4.5's. This is not the most ideal goal, but it's the best we can see with our data at hand. \n",
    "\n",
    "In order to see which movies are popular we will take a look at the ratings. The 2016/17 data calls a popular movie one with \"significant amount of ratings\". For significant we will take the number 30 as Hickney used for his benchmark in 2015. Then we will be able to compare the data of two separate years, 2015 and 2016. "
   ]
  },
  {
   "cell_type": "code",
   "execution_count": 4,
   "metadata": {},
   "outputs": [
    {
     "name": "stdout",
     "output_type": "stream",
     "text": [
      "Straight Outta Compton (2015)            1\n",
      "Amy (2015)                               1\n",
      "Me and Earl and The Dying Girl (2015)    1\n",
      "The Age of Adaline (2015)                1\n",
      "Birdman (2014)                           1\n",
      "                                        ..\n",
      "Monkey Kingdom (2015)                    1\n",
      "Furious 7 (2015)                         1\n",
      "Trainwreck (2015)                        1\n",
      "Mr. Holmes (2015)                        1\n",
      "Cake (2015)                              1\n",
      "Name: FILM, Length: 146, dtype: int64\n",
      "2016    191\n",
      "2017     23\n",
      "Name: year, dtype: int64\n"
     ]
    }
   ],
   "source": [
    "#We have to see if all movies in the datasets are from one year only. \n",
    "print(before['FILM'].value_counts())\n",
    "print(after['year'].value_counts())"
   ]
  },
  {
   "cell_type": "code",
   "execution_count": 9,
   "metadata": {},
   "outputs": [
    {
     "data": {
      "text/plain": [
       "2015    129\n",
       "2014     17\n",
       "Name: Year, dtype: int64"
      ]
     },
     "execution_count": 9,
     "metadata": {},
     "output_type": "execute_result"
    }
   ],
   "source": [
    "#As we can see both datasets have films from different years. Let's make that uniform by cleaning the years.\n",
    "\n",
    "#Extracting the year from the 'FILM' column\n",
    "before['Year'] = before['FILM'].str[-5:-1].astype(int)\n",
    "\n",
    "#The code got a useless warning, I got rid of that.\n",
    "import warnings\n",
    "warnings.filterwarnings('ignore')\n",
    "\n",
    "before['Year'].value_counts()"
   ]
  },
  {
   "cell_type": "code",
   "execution_count": 6,
   "metadata": {},
   "outputs": [
    {
     "data": {
      "text/plain": [
       "35"
      ]
     },
     "execution_count": 6,
     "metadata": {},
     "output_type": "execute_result"
    }
   ],
   "source": [
    "#Selecting all movies from 2015 and 2016.\n",
    "fd2015 = before[before['Year'] == 2015]\n",
    "fd2016 = after[after['year'] == 2016]\n",
    "\n",
    "#Let's see what the minimal rating is for the 2015 set.\n",
    "fd2015['Fandango_votes'].min()"
   ]
  },
  {
   "cell_type": "code",
   "execution_count": 7,
   "metadata": {},
   "outputs": [
    {
     "data": {
      "text/html": [
       "<div>\n",
       "<style scoped>\n",
       "    .dataframe tbody tr th:only-of-type {\n",
       "        vertical-align: middle;\n",
       "    }\n",
       "\n",
       "    .dataframe tbody tr th {\n",
       "        vertical-align: top;\n",
       "    }\n",
       "\n",
       "    .dataframe thead th {\n",
       "        text-align: right;\n",
       "    }\n",
       "</style>\n",
       "<table border=\"1\" class=\"dataframe\">\n",
       "  <thead>\n",
       "    <tr style=\"text-align: right;\">\n",
       "      <th></th>\n",
       "      <th>Fandango_Stars</th>\n",
       "      <th>Fandango_Ratingvalue</th>\n",
       "      <th>Fandango_votes</th>\n",
       "      <th>Fandango_Difference</th>\n",
       "      <th>Year</th>\n",
       "    </tr>\n",
       "  </thead>\n",
       "  <tbody>\n",
       "    <tr>\n",
       "      <th>count</th>\n",
       "      <td>129.000000</td>\n",
       "      <td>129.000000</td>\n",
       "      <td>129.000000</td>\n",
       "      <td>129.000000</td>\n",
       "      <td>129.0</td>\n",
       "    </tr>\n",
       "    <tr>\n",
       "      <th>mean</th>\n",
       "      <td>4.085271</td>\n",
       "      <td>3.846512</td>\n",
       "      <td>3761.891473</td>\n",
       "      <td>0.238760</td>\n",
       "      <td>2015.0</td>\n",
       "    </tr>\n",
       "    <tr>\n",
       "      <th>std</th>\n",
       "      <td>0.538096</td>\n",
       "      <td>0.505446</td>\n",
       "      <td>6543.601748</td>\n",
       "      <td>0.152741</td>\n",
       "      <td>0.0</td>\n",
       "    </tr>\n",
       "    <tr>\n",
       "      <th>min</th>\n",
       "      <td>3.000000</td>\n",
       "      <td>2.700000</td>\n",
       "      <td>35.000000</td>\n",
       "      <td>0.000000</td>\n",
       "      <td>2015.0</td>\n",
       "    </tr>\n",
       "    <tr>\n",
       "      <th>25%</th>\n",
       "      <td>3.500000</td>\n",
       "      <td>3.500000</td>\n",
       "      <td>210.000000</td>\n",
       "      <td>0.100000</td>\n",
       "      <td>2015.0</td>\n",
       "    </tr>\n",
       "    <tr>\n",
       "      <th>50%</th>\n",
       "      <td>4.000000</td>\n",
       "      <td>3.900000</td>\n",
       "      <td>1415.000000</td>\n",
       "      <td>0.200000</td>\n",
       "      <td>2015.0</td>\n",
       "    </tr>\n",
       "    <tr>\n",
       "      <th>75%</th>\n",
       "      <td>4.500000</td>\n",
       "      <td>4.200000</td>\n",
       "      <td>4045.000000</td>\n",
       "      <td>0.400000</td>\n",
       "      <td>2015.0</td>\n",
       "    </tr>\n",
       "    <tr>\n",
       "      <th>max</th>\n",
       "      <td>5.000000</td>\n",
       "      <td>4.800000</td>\n",
       "      <td>34846.000000</td>\n",
       "      <td>0.500000</td>\n",
       "      <td>2015.0</td>\n",
       "    </tr>\n",
       "  </tbody>\n",
       "</table>\n",
       "</div>"
      ],
      "text/plain": [
       "       Fandango_Stars  Fandango_Ratingvalue  Fandango_votes  \\\n",
       "count      129.000000            129.000000      129.000000   \n",
       "mean         4.085271              3.846512     3761.891473   \n",
       "std          0.538096              0.505446     6543.601748   \n",
       "min          3.000000              2.700000       35.000000   \n",
       "25%          3.500000              3.500000      210.000000   \n",
       "50%          4.000000              3.900000     1415.000000   \n",
       "75%          4.500000              4.200000     4045.000000   \n",
       "max          5.000000              4.800000    34846.000000   \n",
       "\n",
       "       Fandango_Difference    Year  \n",
       "count           129.000000   129.0  \n",
       "mean              0.238760  2015.0  \n",
       "std               0.152741     0.0  \n",
       "min               0.000000  2015.0  \n",
       "25%               0.100000  2015.0  \n",
       "50%               0.200000  2015.0  \n",
       "75%               0.400000  2015.0  \n",
       "max               0.500000  2015.0  "
      ]
     },
     "execution_count": 7,
     "metadata": {},
     "output_type": "execute_result"
    }
   ],
   "source": [
    "fd2015.describe()"
   ]
  },
  {
   "cell_type": "code",
   "execution_count": 8,
   "metadata": {},
   "outputs": [
    {
     "data": {
      "text/html": [
       "<div>\n",
       "<style scoped>\n",
       "    .dataframe tbody tr th:only-of-type {\n",
       "        vertical-align: middle;\n",
       "    }\n",
       "\n",
       "    .dataframe tbody tr th {\n",
       "        vertical-align: top;\n",
       "    }\n",
       "\n",
       "    .dataframe thead th {\n",
       "        text-align: right;\n",
       "    }\n",
       "</style>\n",
       "<table border=\"1\" class=\"dataframe\">\n",
       "  <thead>\n",
       "    <tr style=\"text-align: right;\">\n",
       "      <th></th>\n",
       "      <th>year</th>\n",
       "      <th>fandango</th>\n",
       "    </tr>\n",
       "  </thead>\n",
       "  <tbody>\n",
       "    <tr>\n",
       "      <th>count</th>\n",
       "      <td>191.0</td>\n",
       "      <td>191.000000</td>\n",
       "    </tr>\n",
       "    <tr>\n",
       "      <th>mean</th>\n",
       "      <td>2016.0</td>\n",
       "      <td>3.887435</td>\n",
       "    </tr>\n",
       "    <tr>\n",
       "      <th>std</th>\n",
       "      <td>0.0</td>\n",
       "      <td>0.509540</td>\n",
       "    </tr>\n",
       "    <tr>\n",
       "      <th>min</th>\n",
       "      <td>2016.0</td>\n",
       "      <td>2.500000</td>\n",
       "    </tr>\n",
       "    <tr>\n",
       "      <th>25%</th>\n",
       "      <td>2016.0</td>\n",
       "      <td>3.500000</td>\n",
       "    </tr>\n",
       "    <tr>\n",
       "      <th>50%</th>\n",
       "      <td>2016.0</td>\n",
       "      <td>4.000000</td>\n",
       "    </tr>\n",
       "    <tr>\n",
       "      <th>75%</th>\n",
       "      <td>2016.0</td>\n",
       "      <td>4.250000</td>\n",
       "    </tr>\n",
       "    <tr>\n",
       "      <th>max</th>\n",
       "      <td>2016.0</td>\n",
       "      <td>5.000000</td>\n",
       "    </tr>\n",
       "  </tbody>\n",
       "</table>\n",
       "</div>"
      ],
      "text/plain": [
       "         year    fandango\n",
       "count   191.0  191.000000\n",
       "mean   2016.0    3.887435\n",
       "std       0.0    0.509540\n",
       "min    2016.0    2.500000\n",
       "25%    2016.0    3.500000\n",
       "50%    2016.0    4.000000\n",
       "75%    2016.0    4.250000\n",
       "max    2016.0    5.000000"
      ]
     },
     "execution_count": 8,
     "metadata": {},
     "output_type": "execute_result"
    }
   ],
   "source": [
    "fd2016.describe()"
   ]
  },
  {
   "cell_type": "markdown",
   "metadata": {},
   "source": [
    "### Ratings 2016\n",
    "As we can see above our 2016 dataset contains more films than the one from 2015. This could be because there has been another rating definition of popular. Moreover it will be difficult to check whether those ratings are not there anymore, because at the time of writing it is 2020 and the movies' ratings must have changed. Despite that, it is still the best thing we've got. \n",
    "Hence we will take a random sample from our data and double check that with the fandango website. \n",
    "\n",
    "If at least 90% of fd2016 has a rating of 30 votes or more we can be sure that most of the data is representative. As we can see above, the 2015 data has a minimum of 35 votes, so they are all over. \n",
    "\n",
    "After checking and sampling, which I removed, I found out in June 2020 that the Fandango website has removed the vote system and it has become a different website altogether, selling tickets and they are using the Rotten Tomatoes system now. There is no way to check upon the old votes. \n",
    "\n",
    "This means that for the Guided Project we will have to trust on what the solutions found in 2018. And that result was only one film in the sample that did not have more than 30 votes. Therefore the answers have found it to be representative, and I will have to trust that then. This means that it's **time for analysis**."
   ]
  },
  {
   "cell_type": "code",
   "execution_count": 18,
   "metadata": {},
   "outputs": [
    {
     "data": {
      "image/png": "[encoded data removed]",
      "text/plain": [
       "<Figure size 720x504 with 1 Axes>"
      ]
     },
     "metadata": {},
     "output_type": "display_data"
    }
   ],
   "source": [
    "## Let's create a kernel density plot for the ratings of both years. \n",
    "%matplotlib inline\n",
    "plt.style.use('fivethirtyeight')\n",
    "xticklabels = [0, 0.5, 1.0, 1.5, 2.0, 2.5, 3.0, 3.5, 4.0, 4.5, 5.0]\n",
    "\n",
    "fd2015['Fandango_Stars'].plot.kde(label='2015', legend=True, figsize = (10,7))\n",
    "fd2016['fandango'].plot.kde(label='2016', legend=True)\n",
    "\n",
    "plt.title(\"Comparing distribution shapes for Fandango's ratings\\n(2015 vs 2016)\",\n",
    "          y = 1.07) # the `y` parameter pads the title upward\n",
    "plt.xlabel('Stars')\n",
    "plt.xlim(0,5) # because ratings start at 0 and end at 5\n",
    "plt.xticks(ticks = xticklabels)\n",
    "plt.show()"
   ]
  },
  {
   "cell_type": "markdown",
   "metadata": {},
   "source": [
    "## Comparing the distributions\n",
    "\n",
    "* We can see that both distributions are left skewed. \n",
    "* Still, we do see that the 2016 data resembles a normal distribution a little more than the 2015 data.\n",
    "* There is some evidence to say that the ratings have been corrected. The peak for example is not at 4.5 but at 4 now. \n",
    "* This seems to be the case for all values, they have gone half a star to the left. "
   ]
  },
  {
   "cell_type": "code",
   "execution_count": 28,
   "metadata": {},
   "outputs": [
    {
     "name": "stdout",
     "output_type": "stream",
     "text": [
      "3.0     8.527132\n",
      "3.5    17.829457\n",
      "4.0    28.682171\n",
      "4.5    37.984496\n",
      "5.0     6.976744\n",
      "Name: Fandango_Stars, dtype: float64\n",
      "2.5     3.141361\n",
      "3.0     7.329843\n",
      "3.5    24.083770\n",
      "4.0    40.314136\n",
      "4.5    24.607330\n",
      "5.0     0.523560\n",
      "Name: fandango, dtype: float64\n"
     ]
    }
   ],
   "source": [
    "#Now we will examine the slight difference on a more granular level.\n",
    "print(fd2015['Fandango_Stars'].value_counts(normalize=True).sort_index() * 100)\n",
    "print(fd2016['fandango'].value_counts(normalize=True).sort_index() * 100)"
   ]
  },
  {
   "cell_type": "markdown",
   "metadata": {},
   "source": [
    "## Clear difference\n",
    "We can see that the ratings have shifted a lot towards the lower end e.g. \n",
    "* 5 stars dropped from 7% to 0.5%. \n",
    "* 4.5 stars went from 38% to 25%.\n",
    "* 4 stars went up from 28.5% to 40%.\n",
    "\n",
    "In the end it is not clear if the mean has changed, hence the direction of change is not that clear anymore. Let's look at those metrics a little more closely."
   ]
  },
  {
   "cell_type": "code",
   "execution_count": 30,
   "metadata": {},
   "outputs": [
    {
     "name": "stdout",
     "output_type": "stream",
     "text": [
      "4.0852713178294575\n"
     ]
    },
    {
     "data": {
      "text/plain": [
       "3.887434554973822"
      ]
     },
     "execution_count": 30,
     "metadata": {},
     "output_type": "execute_result"
    }
   ],
   "source": [
    "#The means of 2015 and 2016\n",
    "print(fd2015['Fandango_Stars'].mean())\n",
    "fd2016['fandango'].mean()"
   ]
  },
  {
   "cell_type": "code",
   "execution_count": 31,
   "metadata": {},
   "outputs": [
    {
     "name": "stdout",
     "output_type": "stream",
     "text": [
      "4.0\n"
     ]
    },
    {
     "data": {
      "text/plain": [
       "4.0"
      ]
     },
     "execution_count": 31,
     "metadata": {},
     "output_type": "execute_result"
    }
   ],
   "source": [
    "#The Medians of 2015 and 2016\n",
    "print(fd2015['Fandango_Stars'].median())\n",
    "fd2016['fandango'].median()"
   ]
  },
  {
   "cell_type": "code",
   "execution_count": 32,
   "metadata": {},
   "outputs": [
    {
     "name": "stdout",
     "output_type": "stream",
     "text": [
      "0    4.5\n",
      "dtype: float64\n"
     ]
    },
    {
     "data": {
      "text/plain": [
       "0    4.0\n",
       "dtype: float64"
      ]
     },
     "execution_count": 32,
     "metadata": {},
     "output_type": "execute_result"
    }
   ],
   "source": [
    "#The Modes of 2015 and 2016\n",
    "print(fd2015['Fandango_Stars'].mode())\n",
    "fd2016['fandango'].mode()"
   ]
  },
  {
   "cell_type": "code",
   "execution_count": 34,
   "metadata": {},
   "outputs": [
    {
     "data": {
      "text/html": [
       "<div>\n",
       "<style scoped>\n",
       "    .dataframe tbody tr th:only-of-type {\n",
       "        vertical-align: middle;\n",
       "    }\n",
       "\n",
       "    .dataframe tbody tr th {\n",
       "        vertical-align: top;\n",
       "    }\n",
       "\n",
       "    .dataframe thead th {\n",
       "        text-align: right;\n",
       "    }\n",
       "</style>\n",
       "<table border=\"1\" class=\"dataframe\">\n",
       "  <thead>\n",
       "    <tr style=\"text-align: right;\">\n",
       "      <th></th>\n",
       "      <th>2015</th>\n",
       "      <th>2016</th>\n",
       "    </tr>\n",
       "  </thead>\n",
       "  <tbody>\n",
       "    <tr>\n",
       "      <th>mean</th>\n",
       "      <td>4.085271</td>\n",
       "      <td>3.887435</td>\n",
       "    </tr>\n",
       "    <tr>\n",
       "      <th>median</th>\n",
       "      <td>4.000000</td>\n",
       "      <td>4.000000</td>\n",
       "    </tr>\n",
       "    <tr>\n",
       "      <th>mode</th>\n",
       "      <td>4.500000</td>\n",
       "      <td>4.000000</td>\n",
       "    </tr>\n",
       "  </tbody>\n",
       "</table>\n",
       "</div>"
      ],
      "text/plain": [
       "            2015      2016\n",
       "mean    4.085271  3.887435\n",
       "median  4.000000  4.000000\n",
       "mode    4.500000  4.000000"
      ]
     },
     "execution_count": 34,
     "metadata": {},
     "output_type": "execute_result"
    }
   ],
   "source": [
    "# Let's make those values a little more clear.\n",
    "summary = pd.DataFrame()\n",
    "summary['2015']=[4.0852713178294575,4.0,4.5]\n",
    "summary['2016']=[3.887434554973822,4.0,4.0]\n",
    "summary.index = ['mean','median','mode']\n",
    "summary"
   ]
  },
  {
   "cell_type": "code",
   "execution_count": 54,
   "metadata": {},
   "outputs": [
    {
     "data": {
      "image/png": "[encoded data removed]",
      "text/plain": [
       "<Figure size 720x360 with 1 Axes>"
      ]
     },
     "metadata": {},
     "output_type": "display_data"
    }
   ],
   "source": [
    "# Now we can visualize them to make it even more clear. \n",
    "from numpy import arange\n",
    "\n",
    "summary['2015'].plot.bar(color='red', align='edge', figsize = (10,5))\n",
    "summary['2016'].plot.bar()\n",
    "\n",
    "plt.ylabel('Stars')\n",
    "plt.yticks(arange(.5,5.1,.5))\n",
    "plt.legend(loc ='upper center')\n",
    "plt.title('Comparing summary statistics: 2015 vs 2016', y = 1.07)\n",
    "plt.xticks(rotation=45)\n",
    "plt.show()"
   ]
  },
  {
   "cell_type": "markdown",
   "metadata": {},
   "source": [
    "### Direction\n",
    "The difference in direction is clear, especially because the mode has changed from 4.5 to 4.0. But also the mean has dropped 4%"
   ]
  },
  {
   "cell_type": "markdown",
   "metadata": {},
   "source": [
    "# Conclusion\n",
    "From the data we have worked with there is a clear answer to our question above. The direction of the data has been changed slightly from the 'skewed' most popular movies in 2015 to the more corrected popular movies of 2016. Most likely the ratings have been fixed. The only other explanation could be that the movies of 2016 were just a lot worse, but that seems unreasonable to assume. \n",
    "\n",
    "One could assume that these changes were due to Hickey's report in 2015."
   ]
  },
  {
   "cell_type": "code",
   "execution_count": null,
   "metadata": {},
   "outputs": [],
   "source": []
  }
 ],
 "metadata": {
  "kernelspec": {
   "display_name": "Python 3",
   "language": "python",
   "name": "python3"
  },
  "language_info": {
   "codemirror_mode": {
    "name": "ipython",
    "version": 3
   },
   "file_extension": ".py",
   "mimetype": "text/x-python",
   "name": "python",
   "nbconvert_exporter": "python",
   "pygments_lexer": "ipython3",
   "version": "3.7.6"
  }
 },
 "nbformat": 4,
 "nbformat_minor": 2
}
