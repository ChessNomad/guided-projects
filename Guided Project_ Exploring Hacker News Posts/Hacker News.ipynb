{
 "cells": [
  {
   "cell_type": "markdown",
   "metadata": {
    "collapsed": true
   },
   "source": [
    "# Hacker news project\n",
    "\n",
    "This project concerns the data of the hackernews.com website. We are going to analyse what type of post are getting more comments than others. In order to do that we will compute the best type of post and the best time to post. "
   ]
  },
  {
   "cell_type": "code",
   "execution_count": 1,
   "metadata": {
    "collapsed": false
   },
   "outputs": [
    {
     "name": "stdout",
     "output_type": "stream",
     "text": [
      "[['id', 'title', 'url', 'num_points', 'num_comments', 'author', 'created_at'], ['12224879', 'Interactive Dynamic Video', 'http://www.interactivedynamicvideo.com/', '386', '52', 'ne0phyte', '8/4/2016 11:52'], ['10975351', 'How to Use Open Source and Shut the Fuck Up at the Same Time', 'http://hueniverse.com/2016/01/26/how-to-use-open-source-and-shut-the-fuck-up-at-the-same-time/', '39', '10', 'josep2', '1/26/2016 19:30'], ['11964716', \"Florida DJs May Face Felony for April Fools' Water Joke\", 'http://www.thewire.com/entertainment/2013/04/florida-djs-april-fools-water-joke/63798/', '2', '1', 'vezycash', '6/23/2016 22:20'], ['11919867', 'Technology ventures: From Idea to Enterprise', 'https://www.amazon.com/Technology-Ventures-Enterprise-Thomas-Byers/dp/0073523429', '3', '1', 'hswarna', '6/17/2016 0:01']]\n"
     ]
    }
   ],
   "source": [
    "from csv import reader\n",
    "opened_file = open('hacker_news.csv')\n",
    "read_file = reader(opened_file)\n",
    "hn = list(read_file)\n",
    "print(hn[0:5])\n"
   ]
  },
  {
   "cell_type": "code",
   "execution_count": 2,
   "metadata": {
    "collapsed": false
   },
   "outputs": [
    {
     "name": "stdout",
     "output_type": "stream",
     "text": [
      "['id', 'title', 'url', 'num_points', 'num_comments', 'author', 'created_at']\n",
      "[['12224879', 'Interactive Dynamic Video', 'http://www.interactivedynamicvideo.com/', '386', '52', 'ne0phyte', '8/4/2016 11:52'], ['10975351', 'How to Use Open Source and Shut the Fuck Up at the Same Time', 'http://hueniverse.com/2016/01/26/how-to-use-open-source-and-shut-the-fuck-up-at-the-same-time/', '39', '10', 'josep2', '1/26/2016 19:30'], ['11964716', \"Florida DJs May Face Felony for April Fools' Water Joke\", 'http://www.thewire.com/entertainment/2013/04/florida-djs-april-fools-water-joke/63798/', '2', '1', 'vezycash', '6/23/2016 22:20'], ['11919867', 'Technology ventures: From Idea to Enterprise', 'https://www.amazon.com/Technology-Ventures-Enterprise-Thomas-Byers/dp/0073523429', '3', '1', 'hswarna', '6/17/2016 0:01'], ['10301696', 'Note by Note: The Making of Steinway L1037 (2007)', 'http://www.nytimes.com/2007/11/07/movies/07stein.html?_r=0', '8', '2', 'walterbell', '9/30/2015 4:12']]\n"
     ]
    }
   ],
   "source": [
    "headers = hn[0]\n",
    "hn = hn[1:]\n",
    "print(headers)\n",
    "print(hn[0:5])"
   ]
  },
  {
   "cell_type": "code",
   "execution_count": 3,
   "metadata": {
    "collapsed": false
   },
   "outputs": [
    {
     "name": "stdout",
     "output_type": "stream",
     "text": [
      "1744\n",
      "1162\n",
      "17194\n"
     ]
    }
   ],
   "source": [
    "ask_posts = []\n",
    "show_posts = []\n",
    "other_posts = []\n",
    "\n",
    "for row in hn:\n",
    "    title = row[1]\n",
    "    title = title.lower()\n",
    "    if title.startswith('ask hn'):\n",
    "        ask_posts.append(row)\n",
    "    elif title.startswith('show hn'):\n",
    "        show_posts.append(row)\n",
    "    else:\n",
    "        other_posts.append(row)\n",
    "        \n",
    "print(len(ask_posts))\n",
    "print(len(show_posts))\n",
    "print(len(other_posts))"
   ]
  },
  {
   "cell_type": "code",
   "execution_count": 6,
   "metadata": {
    "collapsed": false
   },
   "outputs": [
    {
     "name": "stdout",
     "output_type": "stream",
     "text": [
      "14.038417431192661\n",
      "10.31669535283993\n"
     ]
    }
   ],
   "source": [
    "total_ask_comments = 0\n",
    "for row in ask_posts:\n",
    "    num_comments = int(row[4])\n",
    "    total_ask_comments += num_comments\n",
    "    \n",
    "avg_ask_comments = total_ask_comments / 1744\n",
    "print(avg_ask_comments)\n",
    "\n",
    "total_show_comments = 0\n",
    "for row in show_posts:\n",
    "    num_comments = int(row[4])\n",
    "    total_show_comments += num_comments\n",
    "\n",
    "avg_show_comments = total_show_comments / 1162\n",
    "print(avg_show_comments)    \n",
    "    "
   ]
  },
  {
   "cell_type": "markdown",
   "metadata": {},
   "source": [
    "## Ask versus show comments\n",
    "\n",
    "For ask comments the average is 14.03\n",
    "While for show comments it is 10.31\n",
    "This difference in average is probably due to the fact that people on HackerNews are more ready to respond to questions than to things that are just being shown. "
   ]
  },
  {
   "cell_type": "code",
   "execution_count": 14,
   "metadata": {
    "collapsed": false
   },
   "outputs": [
    {
     "name": "stdout",
     "output_type": "stream",
     "text": [
      "{'04': 47, '16': 108, '21': 109, '03': 54, '09': 45, '22': 71, '17': 100, '08': 48, '18': 109, '20': 80, '06': 44, '00': 55, '14': 107, '23': 68, '02': 58, '01': 60, '15': 116, '19': 110, '11': 58, '12': 73, '10': 59, '07': 34, '13': 85, '05': 46}\n"
     ]
    }
   ],
   "source": [
    "import datetime as dt\n",
    "result_list = []\n",
    "for row in ask_posts:\n",
    "    created_at = row[6]\n",
    "    n_comments = int(row[4])\n",
    "    result_list.append([created_at, n_comments])\n",
    "\n",
    "counts_by_hour = {}\n",
    "comments_by_hour = {}\n",
    "\n",
    "for row in result_list:\n",
    "    t_post = dt.datetime.strptime(row[0], \"%m/%d/%Y %H:%M\")\n",
    "    h_post = t_post.strftime(\"%H\")\n",
    "    if h_post not in counts_by_hour:\n",
    "        counts_by_hour[h_post] = 1\n",
    "        comments_by_hour[h_post] = row[1]\n",
    "    else:\n",
    "        counts_by_hour[h_post] += 1\n",
    "        comments_by_hour[h_post] += row[1]\n",
    "        \n",
    "print(counts_by_hour)\n",
    "        \n",
    "    "
   ]
  },
  {
   "cell_type": "code",
   "execution_count": 17,
   "metadata": {
    "collapsed": false
   },
   "outputs": [
    {
     "name": "stdout",
     "output_type": "stream",
     "text": [
      "[['04', 7.170212765957447], ['16', 16.796296296296298], ['21', 16.009174311926607], ['03', 7.796296296296297], ['09', 5.5777777777777775], ['22', 6.746478873239437], ['17', 11.46], ['08', 10.25], ['18', 13.20183486238532], ['20', 21.525], ['06', 9.022727272727273], ['00', 8.127272727272727], ['14', 13.233644859813085], ['23', 7.985294117647059], ['02', 23.810344827586206], ['01', 11.383333333333333], ['15', 38.5948275862069], ['19', 10.8], ['11', 11.051724137931034], ['12', 9.41095890410959], ['10', 13.440677966101696], ['07', 7.852941176470588], ['13', 14.741176470588234], ['05', 10.08695652173913]]\n"
     ]
    }
   ],
   "source": [
    "avg_by_hour = []\n",
    "\n",
    "for hour in comments_by_hour:\n",
    "    avg_by_hour.append([hour, (comments_by_hour[hour]/counts_by_hour[hour])])\n",
    "                        \n",
    "print(avg_by_hour)"
   ]
  },
  {
   "cell_type": "code",
   "execution_count": 22,
   "metadata": {
    "collapsed": false
   },
   "outputs": [
    {
     "name": "stdout",
     "output_type": "stream",
     "text": [
      "[[7.170212765957447, '04'], [16.796296296296298, '16'], [16.009174311926607, '21'], [7.796296296296297, '03'], [5.5777777777777775, '09'], [6.746478873239437, '22'], [11.46, '17'], [10.25, '08'], [13.20183486238532, '18'], [21.525, '20'], [9.022727272727273, '06'], [8.127272727272727, '00'], [13.233644859813085, '14'], [7.985294117647059, '23'], [23.810344827586206, '02'], [11.383333333333333, '01'], [38.5948275862069, '15'], [10.8, '19'], [11.051724137931034, '11'], [9.41095890410959, '12'], [13.440677966101696, '10'], [7.852941176470588, '07'], [14.741176470588234, '13'], [10.08695652173913, '05']]\n"
     ]
    }
   ],
   "source": [
    "swap_avg_by_hour = []\n",
    "for row in avg_by_hour:\n",
    "    swap_avg_by_hour.append([row[1], row[0]])\n",
    "print(swap_avg_by_hour)"
   ]
  },
  {
   "cell_type": "code",
   "execution_count": 30,
   "metadata": {
    "collapsed": false
   },
   "outputs": [
    {
     "name": "stdout",
     "output_type": "stream",
     "text": [
      "Top 5 Hours for Ask Posts Comments\n",
      "15:00: 38.59 average comments per post\n",
      "02:00: 23.81 average comments per post\n",
      "20:00: 21.52 average comments per post\n",
      "16:00: 16.80 average comments per post\n",
      "21:00: 16.01 average comments per post\n"
     ]
    }
   ],
   "source": [
    "sorted_swap = sorted(swap_avg_by_hour, reverse = True)\n",
    "print(\"Top 5 Hours for Ask Posts Comments\")\n",
    "for row in sorted_swap[0:5]:\n",
    "    string = \"{}:00: {:.2f} average comments per post\"\n",
    "    print(string.format(dt.datetime.strptime(row[1], '%H').strftime(\"%H\"), row[0]))"
   ]
  },
  {
   "cell_type": "markdown",
   "metadata": {},
   "source": [
    "## Results\n",
    "\n",
    "The last step in determining the difference in time zone between the data and the current time zone we are in. If we check the following [link](https://www.kaggle.com/hacker-news/hacker-news-posts), the times for the dataset are in Eastern time US.\n",
    "\n",
    "The difference between Eastern time US and GMT +1 (Amsterdam) is five hours. In the US it is five hours earlier than in Amsterdam. \n",
    "\n",
    "This gives us a final result:\n",
    "\n",
    "|Time |Average C/P|\n",
    "|---|---|\n",
    "|20:00   | 38.59 |\n",
    "|7:00   | 23.81  |\n",
    "|1:00   | 21.52  |\n",
    "|21:00   | 16.80  |\n",
    "|2:00   | 16.01  |\n",
    "\n",
    "The best hour is clearly 20:00. But if you miss that window, 21:00 is still a nice second best. Unless you would like to get up early or stay awake past midnight. "
   ]
  }
 ],
 "metadata": {
  "kernelspec": {
   "display_name": "Python 3",
   "language": "python",
   "name": "python3"
  },
  "language_info": {
   "codemirror_mode": {
    "name": "ipython",
    "version": 3
   },
   "file_extension": ".py",
   "mimetype": "text/x-python",
   "name": "python",
   "nbconvert_exporter": "python",
   "pygments_lexer": "ipython3",
   "version": "3.4.3"
  }
 },
 "nbformat": 4,
 "nbformat_minor": 2
}
