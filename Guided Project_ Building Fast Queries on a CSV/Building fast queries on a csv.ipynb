{
 "cells": [
  {
   "cell_type": "markdown",
   "metadata": {},
   "source": [
    "# Building fast queries on a csv\n",
    "\n",
    "In this project we will explore time and space complexities of algorithms. \n",
    "\n",
    "The data we will use is a csv file with 1300 laptops from [Kaggle](https://www.kaggle.com/ionaskel/laptop-prices). The columns are:\n",
    "\n",
    "* **ID**: A unique identifier for the laptop.\n",
    "* **Company**: The name of the company that produces the laptop.\n",
    "* **Product**: The name of the laptop.\n",
    "* **TypeName**: The type of laptop.\n",
    "* **Inches**: The size of the screen in inches.\n",
    "* **ScreenResolution**: The resolution of the screen.\n",
    "* **CPU**: The laptop CPU.\n",
    "* **RAM**: The amount of RAM in the laptop.\n",
    "* **Memory**: The size of the hard drive.\n",
    "* **GPU**: The graphics card name.\n",
    "* **OpSys**: The name of the operating system.\n",
    "* **Weight**: The laptop weight.\n",
    "* **Price**: The price of the laptop."
   ]
  },
  {
   "cell_type": "code",
   "execution_count": 1,
   "metadata": {
    "ExecuteTime": {
     "end_time": "2020-07-27T15:23:21.492713Z",
     "start_time": "2020-07-27T15:23:21.470438Z"
    }
   },
   "outputs": [
    {
     "name": "stdout",
     "output_type": "stream",
     "text": [
      "['Id', 'Company', 'Product', 'TypeName', 'Inches', 'ScreenResolution', 'Cpu', 'Ram', 'Memory', 'Gpu', 'OpSys', 'Weight', 'Price']\n",
      "[['6571244', 'Apple', 'MacBook Pro', 'Ultrabook', '13.3', 'IPS Panel Retina Display 2560x1600', 'Intel Core i5 2.3GHz', '8GB', '128GB SSD', 'Intel Iris Plus Graphics 640', 'macOS', '1.37kg', '1339'], ['7287764', 'Apple', 'Macbook Air', 'Ultrabook', '13.3', '1440x900', 'Intel Core i5 1.8GHz', '8GB', '128GB Flash Storage', 'Intel HD Graphics 6000', 'macOS', '1.34kg', '898'], ['3362737', 'HP', '250 G6', 'Notebook', '15.6', 'Full HD 1920x1080', 'Intel Core i5 7200U 2.5GHz', '8GB', '256GB SSD', 'Intel HD Graphics 620', 'No OS', '1.86kg', '575'], ['9722156', 'Apple', 'MacBook Pro', 'Ultrabook', '15.4', 'IPS Panel Retina Display 2880x1800', 'Intel Core i7 2.7GHz', '16GB', '512GB SSD', 'AMD Radeon Pro 455', 'macOS', '1.83kg', '2537'], ['8550527', 'Apple', 'MacBook Pro', 'Ultrabook', '13.3', 'IPS Panel Retina Display 2560x1600', 'Intel Core i5 3.1GHz', '8GB', '256GB SSD', 'Intel Iris Plus Graphics 650', 'macOS', '1.37kg', '1803']]\n"
     ]
    }
   ],
   "source": [
    "import csv\n",
    "with open('laptops.csv') as f:\n",
    "    laptops = list(csv.reader(f))\n",
    "    header = laptops[0]\n",
    "    rows = laptops[1:]\n",
    "    \n",
    "print(header)\n",
    "print(rows[:5])"
   ]
  },
  {
   "cell_type": "markdown",
   "metadata": {},
   "source": [
    "The **goal** of this project is to create a **class** that represents our inventory. The methods in that class will implement the queries that we want to answer about our inventory. We will also preprocess that data to make those queries run faster.\n",
    "\n",
    "Here are some queries that we will want to answer:\n",
    "\n",
    "* Given a laptop id, find the corresponding data.\n",
    "* Given an amount of money, find whether there are two laptops whose total price is that given amount.\n",
    "* Identify all laptops whose price falls within a given budget."
   ]
  },
  {
   "cell_type": "code",
   "execution_count": 2,
   "metadata": {
    "ExecuteTime": {
     "end_time": "2020-07-27T15:23:21.521158Z",
     "start_time": "2020-07-27T15:23:21.496703Z"
    }
   },
   "outputs": [
    {
     "name": "stdout",
     "output_type": "stream",
     "text": [
      "['Id', 'Company', 'Product', 'TypeName', 'Inches', 'ScreenResolution', 'Cpu', 'Ram', 'Memory', 'Gpu', 'OpSys', 'Weight', 'Price']\n",
      "1303\n"
     ]
    }
   ],
   "source": [
    "class Inventory:\n",
    "    \n",
    "    def __init__(self, csv_filename):\n",
    "        with open(csv_filename) as f:\n",
    "            read_file = list(csv.reader(f))\n",
    "            self.header = read_file[0]\n",
    "            self.rows = read_file[1:]\n",
    "        for row in self.rows:    \n",
    "            row[-1] = int(row[-1])\n",
    "        \n",
    "laptops = Inventory('laptops.csv')\n",
    "print(laptops.header)\n",
    "print(len(laptops.rows))"
   ]
  },
  {
   "cell_type": "markdown",
   "metadata": {},
   "source": [
    "### The class\n",
    "Throughout this project, we will make several improvements to the `Inventory` class. We will create a new cell at the start of each screen and copy and paste the last version of the class and modify the later. This will help us to keep track of the changes.\n",
    "\n",
    "The first thing that we will implement is a way to look up a laptop from a given identifier. In this way, when a customer comes to our store with a purchase slip, we can quickly identify the laptop to which it corresponds.\n",
    "\n",
    "For this, we will write a function named `get_laptop_from_id()`. This function will take as argument the identifier of the laptop and return the full row of the laptop with that id."
   ]
  },
  {
   "cell_type": "code",
   "execution_count": 3,
   "metadata": {
    "ExecuteTime": {
     "end_time": "2020-07-27T15:23:21.554084Z",
     "start_time": "2020-07-27T15:23:21.524149Z"
    }
   },
   "outputs": [
    {
     "name": "stdout",
     "output_type": "stream",
     "text": [
      "['6571244', 'Apple', 'MacBook Pro', 'Ultrabook', '13.3', 'IPS Panel Retina Display 2560x1600', 'Intel Core i5 2.3GHz', '8GB', '128GB SSD', 'Intel Iris Plus Graphics 640', 'macOS', '1.37kg', 1339]\n",
      "None\n"
     ]
    }
   ],
   "source": [
    "class Inventory:\n",
    "    \n",
    "    def __init__(self, csv_filename):\n",
    "        with open(csv_filename) as f:\n",
    "            read_file = list(csv.reader(f))\n",
    "            self.header = read_file[0]\n",
    "            self.rows = read_file[1:]\n",
    "        for row in self.rows:    \n",
    "            row[-1] = int(row[-1])\n",
    "            \n",
    "    def get_laptop_from_id(self, laptop_id):\n",
    "        for row in self.rows:\n",
    "            if row[0] == laptop_id:\n",
    "                return row\n",
    "            else:\n",
    "                return None\n",
    "            \n",
    "laptops = Inventory('laptops.csv')\n",
    "print(laptops.get_laptop_from_id('6571244'))\n",
    "print(laptops.get_laptop_from_id('3362736'))"
   ]
  },
  {
   "cell_type": "markdown",
   "metadata": {},
   "source": [
    "## Improving time complexity O(R)\n",
    "The algorithm from the previous cell requires us to look at every single row to find the one that we are looking for (or decide that such a row does not exist). This algorithm has time complexity O(R) where R is the number of rows.\n",
    "\n",
    "We can solve this problem more efficiently by preprocessing the data. Using a set, we can check in constant time whether a given identifier exists. However, we don't just want to know if it exists, we also want to retrieve the remaining row information. Therefore, we will use a dictionary instead of a set. Dictionaries have the same fast lookup properties that sets have, but allow us to associate values to the keys.\n",
    "\n",
    "In our dataset, we only have about 1,300 laptops, so it might seem unnecessary to improve the performance of this query. However, you have to imagine that this code could be used in situations where the inventory contains millions of rows. Also, if we perform a lot of queries, even on a small dataset, the slow query performance will start to add up. It might eventually become the bottleneck of the application."
   ]
  },
  {
   "cell_type": "code",
   "execution_count": 15,
   "metadata": {
    "ExecuteTime": {
     "end_time": "2020-07-27T17:37:57.641855Z",
     "start_time": "2020-07-27T17:37:57.613291Z"
    }
   },
   "outputs": [
    {
     "name": "stdout",
     "output_type": "stream",
     "text": [
      "['3362737', 'HP', '250 G6', 'Notebook', '15.6', 'Full HD 1920x1080', 'Intel Core i5 7200U 2.5GHz', '8GB', '256GB SSD', 'Intel HD Graphics 620', 'No OS', '1.86kg', 575]\n",
      "None\n"
     ]
    }
   ],
   "source": [
    "class Inventory:\n",
    "    \n",
    "    def __init__(self, csv_filename):\n",
    "        with open(csv_filename) as f:\n",
    "            read_file = list(csv.reader(f))\n",
    "            self.header = read_file[0]\n",
    "            self.rows = read_file[1:]\n",
    "        for row in self.rows:    \n",
    "            row[-1] = int(row[-1])    \n",
    "        self.id_to_row = dict()   #Adding a level of preprocessing to make the lookup process faster.    \n",
    "        for row in self.rows:\n",
    "            self.id_to_row[row[0]] = row     #populating the dict()\n",
    "                    \n",
    "    def get_laptop_from_id(self, laptop_id):\n",
    "        for row in self.rows:\n",
    "            if row[0] == laptop_id:\n",
    "                return row\n",
    "        return None            \n",
    "            \n",
    "    def get_laptop_from_id_fast(self, laptop_id):\n",
    "        if laptop_id in self.id_to_row:\n",
    "            return self.id_to_row[laptop_id]\n",
    "        return None\n",
    "            \n",
    "            \n",
    "laptops = Inventory('laptops.csv')\n",
    "print(laptops.get_laptop_from_id_fast('3362737'))\n",
    "print(laptops.get_laptop_from_id_fast('3362736'))"
   ]
  },
  {
   "cell_type": "markdown",
   "metadata": {},
   "source": [
    "### Time it!\n",
    "Let's compare the times and see if the extra memory spent on the `dict()` has been worth it."
   ]
  },
  {
   "cell_type": "code",
   "execution_count": 5,
   "metadata": {
    "ExecuteTime": {
     "end_time": "2020-07-27T15:23:23.375802Z",
     "start_time": "2020-07-27T15:23:21.588976Z"
    }
   },
   "outputs": [
    {
     "name": "stdout",
     "output_type": "stream",
     "text": [
      "1.697291612625122\n",
      "0.006418466567993164\n"
     ]
    }
   ],
   "source": [
    "import time\n",
    "import random\n",
    "\n",
    "ids = [str(random.randint(1000000, 9999999)) for _ in range(10000)]\n",
    "\n",
    "laptops = Inventory('laptops.csv')\n",
    "\n",
    "total_time_no_dict = 0\n",
    "total_time_dict = 0\n",
    "\n",
    "for i in ids:\n",
    "    start = time.time()\n",
    "    laptops.get_laptop_from_id(i)\n",
    "    end = time.time()\n",
    "    total_time_no_dict += end-start\n",
    "    \n",
    "for i in ids:\n",
    "    start = time.time()\n",
    "    laptops.get_laptop_from_id_fast(i)\n",
    "    end = time.time()\n",
    "    total_time_dict += end-start\n",
    "    \n",
    "print(total_time_no_dict)\n",
    "print(total_time_dict)"
   ]
  },
  {
   "cell_type": "markdown",
   "metadata": {},
   "source": [
    "### Double trouble\n",
    "The results have been quite interesting because there is a slight difference in how the methods can be written. Please consider the alternate answer below."
   ]
  },
  {
   "cell_type": "code",
   "execution_count": 6,
   "metadata": {
    "ExecuteTime": {
     "end_time": "2020-07-27T15:23:23.482470Z",
     "start_time": "2020-07-27T15:23:23.380308Z"
    }
   },
   "outputs": [
    {
     "name": "stdout",
     "output_type": "stream",
     "text": [
      "0.004761695861816406\n",
      "0.011889934539794922\n"
     ]
    }
   ],
   "source": [
    "class Inventory:\n",
    "    \n",
    "    def __init__(self, csv_filename):\n",
    "        with open(csv_filename) as f:\n",
    "            read_file = list(csv.reader(f))\n",
    "            self.header = read_file[0]\n",
    "            self.rows = read_file[1:]\n",
    "        for row in self.rows:    \n",
    "            row[-1] = int(row[-1])    \n",
    "        self.id_to_row = dict()    \n",
    "        for row in self.rows:\n",
    "            self.id_to_row[row[0]] = row    \n",
    "                    \n",
    "    def get_laptop_from_id(self, laptop_id):\n",
    "        for row in self.rows:\n",
    "            if row[0] == laptop_id:\n",
    "                return row\n",
    "            else:                     #The only thing added here is an else: statement instead of returning None at the end.\n",
    "                return None            \n",
    "            \n",
    "    def get_laptop_from_id_fast(self, laptop_id):\n",
    "        if laptop_id in self.id_to_row:\n",
    "            return self.id_to_row[laptop_id]\n",
    "        else:\n",
    "            return None         #Here we also inserted an else statement.\n",
    "        \n",
    "#So when we time it again:\n",
    "#It gives some unexpected results!\n",
    "ids = [str(random.randint(1000000, 9999999)) for _ in range(10000)]\n",
    "\n",
    "laptops = Inventory('laptops.csv')\n",
    "\n",
    "total_time_no_dict = 0\n",
    "total_time_dict = 0\n",
    "\n",
    "for i in ids:\n",
    "    start = time.time()\n",
    "    laptops.get_laptop_from_id(i)\n",
    "    end = time.time()\n",
    "    total_time_no_dict += end-start\n",
    "    \n",
    "for i in ids:\n",
    "    start = time.time()\n",
    "    laptops.get_laptop_from_id_fast(i)\n",
    "    end = time.time()\n",
    "    total_time_dict += end-start\n",
    "    \n",
    "print(total_time_no_dict)\n",
    "print(total_time_dict)"
   ]
  },
  {
   "cell_type": "markdown",
   "metadata": {},
   "source": [
    "### What! Right?\n",
    "They are both faster than the method above. And the strangest thing is, the method without a `dict()` is faster!\n",
    "I am not able to explain the difference so I have sought some help. The answer will be added below when the time is right (pun intended ;-) One other thing that is plaguing the second method is that the results vary a lot. Sometimes one method is better sometimes the other. It is hard to actually compare the methods there. One thing is sure, they are about the same speed as the `no_dict` method from the first method.\n",
    "\n",
    "**UPDATE** The method that I used with `else:` actually does not find the laptop at all. If I would have taken a look at the output of the function I would have noticed that. However the return statement immediately executes. So it is only able to find a laptop if it gets the first laptop as the input. At least there is one less mystery to solve."
   ]
  },
  {
   "cell_type": "markdown",
   "metadata": {},
   "source": [
    "## Gift card\n",
    "Let's move on from this interesting example to another one:\n",
    "\n",
    "Let's pretend we own a store and this is our lookup system. \n",
    "\n",
    "Sometimes, this fictional store offers a promotion where you give a gift card. A customer can use the gift to buy up to two laptops. To avoid having to keep track of what was already spent, the gift card has a single time usage. This means that, even if there is leftover money, it cannot be used anymore.\n",
    "\n",
    "For example, imagine that there are only three laptops in inventory:\n",
    "\n",
    "![image](https://dq-content.s3.amazonaws.com/481/laptop_promotion.png)\n",
    "\n",
    "The prices of these laptops are \\\\$1,339, \\\\$898, and \\\\$575. Say we offered a gift card of \\\\$2,500. Since a customer can buy, at most, two laptops with a gift card, the maximum they can spend is \\\\$2,237 (\\\\$1,339 plus \\\\$898). Therefore, they might feel cheated because, no matter how they spend their gift card, they cannot spend the full \\\\$2,500.\n",
    "\n",
    "We don't want to make a customer feel cheated, so whenever we issue a gift card, we want to make sure that there is at least one way to spend it in full. In other words, before issuing a gift card for *D* dollars, you want to make sure that either there is a laptop that costs exactly *D* dollars or two laptops whose costs add up to precisely *D* dollars.\n",
    "\n",
    "We will write a method to retrieve the options."
   ]
  },
  {
   "cell_type": "code",
   "execution_count": 8,
   "metadata": {
    "ExecuteTime": {
     "end_time": "2020-07-27T15:43:00.315368Z",
     "start_time": "2020-07-27T15:42:59.386417Z"
    }
   },
   "outputs": [
    {
     "name": "stdout",
     "output_type": "stream",
     "text": [
      "True\n",
      "False\n"
     ]
    }
   ],
   "source": [
    "class Inventory:\n",
    "    \n",
    "    def __init__(self, csv_filename):\n",
    "        with open(csv_filename) as f:\n",
    "            read_file = list(csv.reader(f))\n",
    "            self.header = read_file[0]\n",
    "            self.rows = read_file[1:]\n",
    "            \n",
    "        for row in self.rows:    \n",
    "            row[-1] = int(row[-1])    \n",
    "        self.id_to_row = dict()   \n",
    "        \n",
    "        for row in self.rows:\n",
    "            self.id_to_row[row[0]] = row\n",
    "            \n",
    "        \n",
    "    def get_laptop_from_id(self, laptop_id):\n",
    "        for row in self.rows:\n",
    "            if row[0] == laptop_id:\n",
    "                return row\n",
    "        return None            #I have kept the first function. The decision is arbitrary :) \n",
    "            \n",
    "    def get_laptop_from_id_fast(self, laptop_id):\n",
    "        if laptop_id in self.id_to_row:\n",
    "            return self.id_to_row[laptop_id]\n",
    "        return None\n",
    "    \n",
    "    def check_promotion_dollars(self, dollar_amount):\n",
    "        for row in self.rows:\n",
    "            if row[-1] == dollar_amount: #maybe there is one laptop with the exact price of the voucher.\n",
    "                return True\n",
    "        for row in self.rows:\n",
    "            for row2 in self.rows:\n",
    "                if row + row2 == dollar_amount:\n",
    "                    return True\n",
    "        return False\n",
    "    \n",
    "laptops = Inventory('laptops.csv')\n",
    "print(laptops.check_promotion_dollars(1000))        \n",
    "print(laptops.check_promotion_dollars(442))  "
   ]
  },
  {
   "cell_type": "markdown",
   "metadata": {},
   "source": [
    "### Preprocessing\n",
    "Since we only care about whether or not there is a solution, we can store all laptops prices in a set when we initialize the inventory. Then we can check in constant time whether there is a laptop with a given price."
   ]
  },
  {
   "cell_type": "code",
   "execution_count": 10,
   "metadata": {
    "ExecuteTime": {
     "end_time": "2020-07-27T16:03:48.575031Z",
     "start_time": "2020-07-27T16:03:48.548155Z"
    }
   },
   "outputs": [
    {
     "name": "stdout",
     "output_type": "stream",
     "text": [
      "True\n",
      "False\n"
     ]
    }
   ],
   "source": [
    "class Inventory:\n",
    "    \n",
    "    def __init__(self, csv_filename):\n",
    "        with open(csv_filename) as f:\n",
    "            read_file = list(csv.reader(f))\n",
    "            self.header = read_file[0]\n",
    "            self.rows = read_file[1:]\n",
    "            \n",
    "        for row in self.rows:    \n",
    "            row[-1] = int(row[-1])\n",
    "            \n",
    "        self.id_to_row = dict()   \n",
    "        for row in self.rows:\n",
    "            self.id_to_row[row[0]] = row\n",
    "            \n",
    "        self.prices = set()     #The preprocessing is performed here.\n",
    "        for row in self.rows:\n",
    "            self.prices.add(row[-1])\n",
    "            \n",
    "        \n",
    "    def get_laptop_from_id(self, laptop_id):\n",
    "        for row in self.rows:\n",
    "            if row[0] == laptop_id:\n",
    "                return row\n",
    "        return None  \n",
    "            \n",
    "    def get_laptop_from_id_fast(self, laptop_id):\n",
    "        if laptop_id in self.id_to_row:\n",
    "            return self.id_to_row[laptop_id]\n",
    "        return None\n",
    "    \n",
    "    def check_promotion_dollars(self, dollar_amount):\n",
    "        for row in self.rows:\n",
    "            if row[-1] == dollar_amount: \n",
    "                return True\n",
    "        for row in self.rows:\n",
    "            for row2 in self.rows:\n",
    "                if row + row2 == dollar_amount:\n",
    "                    return True\n",
    "        return False\n",
    "    \n",
    "    def check_promotion_dollars_fast(self, dollar_amount):\n",
    "        if dollar_amount in self.prices:\n",
    "            return True\n",
    "        for price in self.prices:\n",
    "            if (dollar_amount - price) in self.prices:  #This is a clever way to see if two values add up\n",
    "                return True\n",
    "        return False\n",
    "    \n",
    "laptops = Inventory('laptops.csv')\n",
    "print(laptops.check_promotion_dollars_fast(1000))        \n",
    "print(laptops.check_promotion_dollars_fast(442))  "
   ]
  },
  {
   "cell_type": "markdown",
   "metadata": {},
   "source": [
    "### Time it one more time!"
   ]
  },
  {
   "cell_type": "code",
   "execution_count": 13,
   "metadata": {
    "ExecuteTime": {
     "end_time": "2020-07-27T16:10:24.705214Z",
     "start_time": "2020-07-27T16:09:23.653845Z"
    }
   },
   "outputs": [
    {
     "name": "stdout",
     "output_type": "stream",
     "text": [
      "61.02195882797241\n",
      "0.0009963512420654297\n"
     ]
    }
   ],
   "source": [
    "laptops = Inventory('laptops.csv')\n",
    "\n",
    "prices = [random.randint(100, 5000) for _ in range(100)]\n",
    "\n",
    "total_time_no_set = 0\n",
    "total_time_set = 0\n",
    "\n",
    "for price in prices:\n",
    "    start = time.time()\n",
    "    laptops.check_promotion_dollars(price)\n",
    "    end = time.time()\n",
    "    total_time_no_set += end-start\n",
    "    \n",
    "for price in prices:\n",
    "    start = time.time()\n",
    "    laptops.check_promotion_dollars_fast(price)\n",
    "    end = time.time()\n",
    "    total_time_set += end-start\n",
    "    \n",
    "print(total_time_no_set)\n",
    "print(total_time_set)"
   ]
  },
  {
   "cell_type": "markdown",
   "metadata": {},
   "source": [
    "As we can see, the method without preprocessing is taking a lot longer than the other one."
   ]
  },
  {
   "cell_type": "markdown",
   "metadata": {},
   "source": [
    "## Budget optimizing\n",
    "At last we will optimize our laptops system to immediately find the laptops for a customer that is in their budget.\n",
    "In order to do that we will use binary search on a sorted price list. Binary search uses a logarithmic time complexity because it cuts the list in half all the time to see if the value is above or below.\n",
    "\n",
    "A bit like a guessing game where someone an only say above or below after a guessing a given value. "
   ]
  },
  {
   "cell_type": "code",
   "execution_count": 14,
   "metadata": {
    "ExecuteTime": {
     "end_time": "2020-07-27T16:44:55.729322Z",
     "start_time": "2020-07-27T16:44:55.541895Z"
    }
   },
   "outputs": [
    {
     "name": "stdout",
     "output_type": "stream",
     "text": [
      "683\n",
      "-1\n"
     ]
    }
   ],
   "source": [
    "class Inventory:\n",
    "    \n",
    "    def __init__(self, csv_filename):\n",
    "        with open(csv_filename) as f:\n",
    "            read_file = list(csv.reader(f))\n",
    "            self.header = read_file[0]\n",
    "            self.rows = read_file[1:]\n",
    "            \n",
    "        for row in self.rows:    \n",
    "            row[-1] = int(row[-1])\n",
    "            \n",
    "        self.id_to_row = dict()   \n",
    "        for row in self.rows:\n",
    "            self.id_to_row[row[0]] = row\n",
    "            \n",
    "        self.prices = set()    \n",
    "        for row in self.rows:\n",
    "            self.prices.add(row[-1])\n",
    "            \n",
    "        self.rows_by_price = sorted(self.rows, key = lambda x: x[-1])     #The preprocessing is performed here.\n",
    "            \n",
    "        \n",
    "    def get_laptop_from_id(self, laptop_id):\n",
    "        for row in self.rows:\n",
    "            if row[0] == laptop_id:\n",
    "                return row\n",
    "        return None  \n",
    "            \n",
    "    def get_laptop_from_id_fast(self, laptop_id):\n",
    "        if laptop_id in self.id_to_row:\n",
    "            return self.id_to_row[laptop_id]\n",
    "        return None\n",
    "    \n",
    "    def check_promotion_dollars(self, dollar_amount):\n",
    "        for row in self.rows:\n",
    "            if row[-1] == dollar_amount: \n",
    "                return True\n",
    "        for row in self.rows:\n",
    "            for row2 in self.rows:\n",
    "                if row + row2 == dollar_amount:\n",
    "                    return True\n",
    "        return False\n",
    "    \n",
    "    def check_promotion_dollars_fast(self, dollar_amount):\n",
    "        if dollar_amount in self.prices:\n",
    "            return True\n",
    "        for price in self.prices:\n",
    "            if (dollar_amount - price) in self.prices:  #This is a clever way to see if two values add up\n",
    "                return True\n",
    "        return False\n",
    "    \n",
    "    def find_first_laptop_more_expensive(self, target_price): #new method\n",
    "        range_start = 0                                   \n",
    "        range_end = len(self.rows_by_price) - 1                   \n",
    "        while range_start < range_end:\n",
    "            range_middle = (range_end + range_start) // 2  \n",
    "            price = self.rows_by_price[range_middle][-1]\n",
    "            if price > target_price:\n",
    "                range_end = range_middle\n",
    "            else:\n",
    "                range_start = range_middle + 1\n",
    "        if self.rows_by_price[range_start][-1] <= target_price:                  \n",
    "            return -1                                   \n",
    "        return range_start\n",
    "\n",
    "inventory = Inventory('laptops.csv')                                \n",
    "print(inventory.find_first_laptop_more_expensive(1000))  \n",
    "print(inventory.find_first_laptop_more_expensive(10000))"
   ]
  }
 ],
 "metadata": {
  "kernelspec": {
   "display_name": "Python 3",
   "language": "python",
   "name": "python3"
  },
  "language_info": {
   "codemirror_mode": {
    "name": "ipython",
    "version": 3
   },
   "file_extension": ".py",
   "mimetype": "text/x-python",
   "name": "python",
   "nbconvert_exporter": "python",
   "pygments_lexer": "ipython3",
   "version": "3.7.6"
  },
  "toc": {
   "base_numbering": 1,
   "nav_menu": {},
   "number_sections": true,
   "sideBar": true,
   "skip_h1_title": false,
   "title_cell": "Table of Contents",
   "title_sidebar": "Contents",
   "toc_cell": false,
   "toc_position": {},
   "toc_section_display": true,
   "toc_window_display": false
  }
 },
 "nbformat": 4,
 "nbformat_minor": 2
}
