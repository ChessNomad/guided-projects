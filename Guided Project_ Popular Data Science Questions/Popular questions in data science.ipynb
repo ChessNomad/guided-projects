{
 "cells": [
  {
   "cell_type": "markdown",
   "metadata": {
    "collapsed": true
   },
   "source": [
    "# Diving into the Stack Enchange website\n",
    "\n",
    "Stack Exchange is a big website with questions which one can upvote and answer. There are lots of different categories from software engineering, to data science to philosophy. There is something for everyone. \n",
    "\n",
    "In this inquiry we are going to take a closer look at the data science part of the website. There are lots of unaswered questions there and the community is quite alive. \n",
    "\n",
    "The first thing that can be noticed is that there are two kinds of questions. General questions, about new techniques and algorithms, and specific questions for example to understand a function in pandas. The specific rules for the site are: No distractions! Which means there are only questions and answers. No spam, no advertisement, just getting to the core of the matter fast.\n",
    "\n",
    "For example on the home website of the data science page, there is not much else but questions. The other pages within the page include: Questions, Tags, Users and Unanswered. All content is very related to the core. Although it is interesting to explore the tags, in order te see which topics are the most popular. Especially the tags category will be a good way to answer our main question.\n",
    "\n",
    "**What do people want to learn mostly?**\n",
    "\n",
    "### Structure of a post. \n",
    "There are several things one post has. \n",
    "\n",
    "- Upvotes/Downvotes\n",
    "- User\n",
    "- Title\n",
    "- Body\n",
    "- Reactions\n",
    "    - User\n",
    "    - Upvotes/Downvotes\n",
    "    - Time posted\n",
    "- Time posted\n",
    "- Viewed\n",
    "\n",
    "In order to answer our question best we are looking at the SEDE DSSE. [This][https://data.stackexchange.com/datascience/query/new] is the online database which covers the Stack Exchange website per part. \n",
    "Anonymous users are free to download whichever dataset to get their hands on!\n",
    "\n",
    "Most of the interesting components are to be found in the first database, `Posts`. But the table `Tags` is interesting as well because it immediately shows the popularity of the tags. Unfortunately there is no time indicator within the tags table."
   ]
  },
  {
   "cell_type": "code",
   "execution_count": 1,
   "metadata": {},
   "outputs": [],
   "source": [
    "# importing and reading in the files\n",
    "import numpy as np\n",
    "import pandas as pd\n",
    "import matplotlib.pyplot as plt\n",
    "import seaborn as sns\n",
    "\n",
    "mydata2019 = pd.read_csv(\"2019_quest.csv\")\n",
    "dqdata2019 = pd.read_csv(\"2019_questions.csv\")"
   ]
  },
  {
   "cell_type": "code",
   "execution_count": 2,
   "metadata": {},
   "outputs": [
    {
     "data": {
      "text/plain": [
       "<machine-learning>                                                              108\n",
       "<python><pandas>                                                                 56\n",
       "<python>                                                                         47\n",
       "<r>                                                                              38\n",
       "<reinforcement-learning>                                                         32\n",
       "                                                                               ... \n",
       "<machine-learning><python><neural-network><deep-learning><transfer-learning>      1\n",
       "<python><jupyter><fastai>                                                         1\n",
       "<machine-learning><keras><cnn><one-hot-encoding>                                  1\n",
       "<python><r><matplotlib><ggplot2>                                                  1\n",
       "<keras><tensorflow><rnn><training><gan>                                           1\n",
       "Name: Tags, Length: 6000, dtype: int64"
      ]
     },
     "execution_count": 2,
     "metadata": {},
     "output_type": "execute_result"
    }
   ],
   "source": [
    "mydata2019[\"Tags\"].value_counts()"
   ]
  },
  {
   "cell_type": "code",
   "execution_count": 3,
   "metadata": {},
   "outputs": [
    {
     "data": {
      "text/plain": [
       "<machine-learning>                                                              118\n",
       "<python><pandas>                                                                 58\n",
       "<python>                                                                         55\n",
       "<r>                                                                              38\n",
       "<tensorflow>                                                                     36\n",
       "                                                                               ... \n",
       "<deep-learning><rnn><backpropagation>                                             1\n",
       "<nlp><dimensionality-reduction>                                                   1\n",
       "<neural-network><feature-selection><feature-extraction><feature-engineering>      1\n",
       "<machine-learning><linear-regression><visualization>                              1\n",
       "<keras><tensorflow><rnn><training><gan>                                           1\n",
       "Name: Tags, Length: 6462, dtype: int64"
      ]
     },
     "execution_count": 3,
     "metadata": {},
     "output_type": "execute_result"
    }
   ],
   "source": [
    "dqdata2019[\"Tags\"].value_counts()"
   ]
  },
  {
   "cell_type": "markdown",
   "metadata": {},
   "source": [
    "## Which dataset to choose?\n",
    "\n",
    "As you are able to see my dataset has a few rows less, but the idea is pretty much the same. It is a bit suspicious that the amount of rows is 6000, as if the website has put a limit on it. Therefore I will select the original dataquest data."
   ]
  },
  {
   "cell_type": "code",
   "execution_count": 4,
   "metadata": {},
   "outputs": [],
   "source": [
    "# Renaming the dataset to Stack Exchange Data Science.\n",
    "SEDS_2019 = dqdata2019 "
   ]
  },
  {
   "cell_type": "markdown",
   "metadata": {},
   "source": [
    "# Exploration\n",
    "In order to explore the data will firstly take a look at missing values and how to handle them."
   ]
  },
  {
   "cell_type": "code",
   "execution_count": 5,
   "metadata": {},
   "outputs": [
    {
     "data": {
      "text/plain": [
       "Id                  0\n",
       "CreationDate        0\n",
       "Score               0\n",
       "ViewCount           0\n",
       "Tags                0\n",
       "AnswerCount         0\n",
       "FavoriteCount    7432\n",
       "dtype: int64"
      ]
     },
     "execution_count": 5,
     "metadata": {},
     "output_type": "execute_result"
    }
   ],
   "source": [
    "SEDS_2019.isnull().sum()"
   ]
  },
  {
   "cell_type": "markdown",
   "metadata": {},
   "source": [
    "### Missing values\n",
    "We can see that the only column with missing values is the FavouriteCount column. Let's see if there is any value for zero, and maybe we can fill the missing values with 0."
   ]
  },
  {
   "cell_type": "code",
   "execution_count": 6,
   "metadata": {},
   "outputs": [
    {
     "data": {
      "text/plain": [
       "NaN     7432\n",
       "1.0      953\n",
       "2.0      205\n",
       "0.0      175\n",
       "3.0       43\n",
       "4.0       12\n",
       "5.0        8\n",
       "6.0        4\n",
       "7.0        4\n",
       "11.0       1\n",
       "8.0        1\n",
       "16.0       1\n",
       "Name: FavoriteCount, dtype: int64"
      ]
     },
     "execution_count": 6,
     "metadata": {},
     "output_type": "execute_result"
    }
   ],
   "source": [
    "SEDS_2019[\"FavoriteCount\"].value_counts(dropna=False)"
   ]
  },
  {
   "cell_type": "code",
   "execution_count": 7,
   "metadata": {},
   "outputs": [],
   "source": [
    "# I will fill NaN with 0, probably because there are far too little 0.0 values present. \n",
    "SEDS_2019[\"FavoriteCount\"]=SEDS_2019[\"FavoriteCount\"].fillna(0)"
   ]
  },
  {
   "cell_type": "code",
   "execution_count": 8,
   "metadata": {
    "scrolled": true
   },
   "outputs": [
    {
     "data": {
      "text/plain": [
       "Id                 int64\n",
       "CreationDate      object\n",
       "Score              int64\n",
       "ViewCount          int64\n",
       "Tags              object\n",
       "AnswerCount        int64\n",
       "FavoriteCount    float64\n",
       "dtype: object"
      ]
     },
     "execution_count": 8,
     "metadata": {},
     "output_type": "execute_result"
    }
   ],
   "source": [
    "SEDS_2019.dtypes"
   ]
  },
  {
   "cell_type": "code",
   "execution_count": 9,
   "metadata": {},
   "outputs": [
    {
     "data": {
      "text/plain": [
       "0    2019-01-23 09:21:13\n",
       "1    2019-01-23 09:34:01\n",
       "2    2019-01-23 09:58:41\n",
       "3    2019-01-23 10:57:09\n",
       "4    2019-01-23 11:02:15\n",
       "Name: CreationDate, dtype: object"
      ]
     },
     "execution_count": 9,
     "metadata": {},
     "output_type": "execute_result"
    }
   ],
   "source": [
    "#Inspecting the shape of the dates.\n",
    "SEDS_2019[\"CreationDate\"].head()"
   ]
  },
  {
   "cell_type": "code",
   "execution_count": 10,
   "metadata": {},
   "outputs": [],
   "source": [
    "# We need to convert FavoriteCount to int and CreationDate to datetime.\n",
    "SEDS_2019[\"FavoriteCount\"] = SEDS_2019[\"FavoriteCount\"].astype(int)\n",
    "SEDS_2019[\"CreationDate\"] = pd.to_datetime(SEDS_2019[\"CreationDate\"] , yearfirst=True)"
   ]
  },
  {
   "cell_type": "code",
   "execution_count": 11,
   "metadata": {},
   "outputs": [
    {
     "data": {
      "text/plain": [
       "Id                        int64\n",
       "CreationDate     datetime64[ns]\n",
       "Score                     int64\n",
       "ViewCount                 int64\n",
       "Tags                     object\n",
       "AnswerCount               int64\n",
       "FavoriteCount             int32\n",
       "dtype: object"
      ]
     },
     "execution_count": 11,
     "metadata": {},
     "output_type": "execute_result"
    }
   ],
   "source": [
    "SEDS_2019.dtypes"
   ]
  },
  {
   "cell_type": "markdown",
   "metadata": {},
   "source": [
    "### The Tags problem\n",
    "When scrolling above one might find that there are entries for Tags with multiple values. Of course in the field Tags one can enter more tags at once. And all those tags are useful for our inquire, hence we are not going to drop any of them. But we will turn them into lists, so they become easier to access."
   ]
  },
  {
   "cell_type": "code",
   "execution_count": 12,
   "metadata": {},
   "outputs": [
    {
     "data": {
      "text/html": [
       "<div>\n",
       "<style scoped>\n",
       "    .dataframe tbody tr th:only-of-type {\n",
       "        vertical-align: middle;\n",
       "    }\n",
       "\n",
       "    .dataframe tbody tr th {\n",
       "        vertical-align: top;\n",
       "    }\n",
       "\n",
       "    .dataframe thead th {\n",
       "        text-align: right;\n",
       "    }\n",
       "</style>\n",
       "<table border=\"1\" class=\"dataframe\">\n",
       "  <thead>\n",
       "    <tr style=\"text-align: right;\">\n",
       "      <th></th>\n",
       "      <th>Id</th>\n",
       "      <th>CreationDate</th>\n",
       "      <th>Score</th>\n",
       "      <th>ViewCount</th>\n",
       "      <th>Tags</th>\n",
       "      <th>AnswerCount</th>\n",
       "      <th>FavoriteCount</th>\n",
       "    </tr>\n",
       "  </thead>\n",
       "  <tbody>\n",
       "    <tr>\n",
       "      <th>4930</th>\n",
       "      <td>62322</td>\n",
       "      <td>2019-10-28 17:18:31</td>\n",
       "      <td>0</td>\n",
       "      <td>43</td>\n",
       "      <td>[python, nlp, nltk, spacy]</td>\n",
       "      <td>1</td>\n",
       "      <td>0</td>\n",
       "    </tr>\n",
       "    <tr>\n",
       "      <th>928</th>\n",
       "      <td>56797</td>\n",
       "      <td>2019-08-01 21:03:35</td>\n",
       "      <td>0</td>\n",
       "      <td>19</td>\n",
       "      <td>[lstm]</td>\n",
       "      <td>0</td>\n",
       "      <td>0</td>\n",
       "    </tr>\n",
       "    <tr>\n",
       "      <th>3532</th>\n",
       "      <td>60662</td>\n",
       "      <td>2019-09-23 21:51:14</td>\n",
       "      <td>0</td>\n",
       "      <td>255</td>\n",
       "      <td>[scikit-learn]</td>\n",
       "      <td>2</td>\n",
       "      <td>0</td>\n",
       "    </tr>\n",
       "  </tbody>\n",
       "</table>\n",
       "</div>"
      ],
      "text/plain": [
       "         Id        CreationDate  Score  ViewCount                        Tags  \\\n",
       "4930  62322 2019-10-28 17:18:31      0         43  [python, nlp, nltk, spacy]   \n",
       "928   56797 2019-08-01 21:03:35      0         19                      [lstm]   \n",
       "3532  60662 2019-09-23 21:51:14      0        255              [scikit-learn]   \n",
       "\n",
       "      AnswerCount  FavoriteCount  \n",
       "4930            1              0  \n",
       "928             0              0  \n",
       "3532            2              0  "
      ]
     },
     "execution_count": 12,
     "metadata": {},
     "output_type": "execute_result"
    }
   ],
   "source": [
    "#Cleaning the original verslons of the tags column into a series of lists. \n",
    "SEDS_2019[\"Tags\"] = SEDS_2019[\"Tags\"].str.replace(\"^<|>$\", \"\").str.split(\"><\")\n",
    "SEDS_2019.sample(3)"
   ]
  },
  {
   "cell_type": "code",
   "execution_count": 13,
   "metadata": {},
   "outputs": [
    {
     "data": {
      "text/plain": [
       "<matplotlib.axes._subplots.AxesSubplot at 0x2316e07c788>"
      ]
     },
     "execution_count": 13,
     "metadata": {},
     "output_type": "execute_result"
    },
    {
     "data": {
      "image/png": "[encoded data removed]",
      "text/plain": [
       "<Figure size 432x288 with 1 Axes>"
      ]
     },
     "metadata": {
      "needs_background": "light"
     },
     "output_type": "display_data"
    }
   ],
   "source": [
    "#We will first extract all the items in Tags in oder to do a true value count.\n",
    "a = pd.Series([item for sublist in SEDS_2019['Tags'] for item in sublist])\n",
    "a.value_counts().head(10).plot.bar()"
   ]
  },
  {
   "cell_type": "code",
   "execution_count": 14,
   "metadata": {},
   "outputs": [
    {
     "data": {
      "text/plain": [
       "0     machine-learning\n",
       "0          data-mining\n",
       "1     machine-learning\n",
       "1           regression\n",
       "1    linear-regression\n",
       "Name: Tags, dtype: object"
      ]
     },
     "execution_count": 14,
     "metadata": {},
     "output_type": "execute_result"
    }
   ],
   "source": [
    "# In order to link the views, we need the index, and now we do. \n",
    "# An alternative solution to solve the Tags problem:\n",
    "\n",
    "tags = SEDS_2019[\"Tags\"].explode()\n",
    "tags.head()"
   ]
  },
  {
   "cell_type": "code",
   "execution_count": 15,
   "metadata": {},
   "outputs": [
    {
     "data": {
      "text/html": [
       "<div>\n",
       "<style scoped>\n",
       "    .dataframe tbody tr th:only-of-type {\n",
       "        vertical-align: middle;\n",
       "    }\n",
       "\n",
       "    .dataframe tbody tr th {\n",
       "        vertical-align: top;\n",
       "    }\n",
       "\n",
       "    .dataframe thead th {\n",
       "        text-align: right;\n",
       "    }\n",
       "</style>\n",
       "<table border=\"1\" class=\"dataframe\">\n",
       "  <thead>\n",
       "    <tr style=\"text-align: right;\">\n",
       "      <th></th>\n",
       "      <th>Tags</th>\n",
       "      <th>ViewCount</th>\n",
       "    </tr>\n",
       "  </thead>\n",
       "  <tbody>\n",
       "    <tr>\n",
       "      <th>0</th>\n",
       "      <td>machine-learning</td>\n",
       "      <td>21</td>\n",
       "    </tr>\n",
       "    <tr>\n",
       "      <th>0</th>\n",
       "      <td>data-mining</td>\n",
       "      <td>21</td>\n",
       "    </tr>\n",
       "    <tr>\n",
       "      <th>1</th>\n",
       "      <td>machine-learning</td>\n",
       "      <td>25</td>\n",
       "    </tr>\n",
       "    <tr>\n",
       "      <th>1</th>\n",
       "      <td>regression</td>\n",
       "      <td>25</td>\n",
       "    </tr>\n",
       "    <tr>\n",
       "      <th>1</th>\n",
       "      <td>linear-regression</td>\n",
       "      <td>25</td>\n",
       "    </tr>\n",
       "  </tbody>\n",
       "</table>\n",
       "</div>"
      ],
      "text/plain": [
       "                Tags  ViewCount\n",
       "0   machine-learning         21\n",
       "0        data-mining         21\n",
       "1   machine-learning         25\n",
       "1         regression         25\n",
       "1  linear-regression         25"
      ]
     },
     "execution_count": 15,
     "metadata": {},
     "output_type": "execute_result"
    }
   ],
   "source": [
    "# Now let's link the views column.\n",
    "\n",
    "tags = pd.merge(tags,SEDS_2019[\"ViewCount\"],left_index= True,right_index=True)\n",
    "tags.head()"
   ]
  },
  {
   "cell_type": "code",
   "execution_count": 16,
   "metadata": {},
   "outputs": [
    {
     "data": {
      "text/plain": [
       "Tags\n",
       ".net                     438\n",
       "3d-object-detection        7\n",
       "3d-reconstruction       1129\n",
       "ab-test                  153\n",
       "accuracy               15233\n",
       "Name: ViewCount, dtype: int64"
      ]
     },
     "execution_count": 16,
     "metadata": {},
     "output_type": "execute_result"
    }
   ],
   "source": [
    "# Group by the tags, fortunately every tag can occur only once per post.\n",
    "taggroup = tags.groupby(\"Tags\")[\"ViewCount\"].sum()\n",
    "taggroup.head()"
   ]
  },
  {
   "cell_type": "code",
   "execution_count": 17,
   "metadata": {},
   "outputs": [
    {
     "data": {
      "text/plain": [
       "<matplotlib.axes._subplots.AxesSubplot at 0x2316e7f0c88>"
      ]
     },
     "execution_count": 17,
     "metadata": {},
     "output_type": "execute_result"
    },
    {
     "data": {
      "image/png": "[encoded data removed]",
      "text/plain": [
       "<Figure size 432x288 with 1 Axes>"
      ]
     },
     "metadata": {
      "needs_background": "light"
     },
     "output_type": "display_data"
    }
   ],
   "source": [
    "#Plot a sorted table of the top tags. \n",
    "taggroup.sort_values(ascending=False).head(10).plot.bar()"
   ]
  },
  {
   "cell_type": "markdown",
   "metadata": {},
   "source": [
    "# Views vs. Tagcount\n",
    "When we take a look at the viewcount we see that there are slight differences between how often something is only viewed versus the tag being used. Some things that stand out:\n",
    "\n",
    "- Python is viewed more often than tagged.\n",
    "- Keras moves from the no.5 spot to the no.3 spot. \n",
    "- Pandas emerges at no.5 where it was not present in tags. \n",
    "\n",
    "## Links between the tags\n",
    "Some tags can have links, e.g. python and pandas are often used simultaneously where others are not. Let's find out a technical solution for the links between:\n",
    "\n",
    "- Pairs of tags\n",
    "- Multple tags\n",
    "\n",
    "Let us see if there are any obvious links to be observed from the description of the tags themselves.\n",
    "\n",
    "- Deep Learning: When we see the description for Deep Learning, it mentions it is a subdomain of `Machine Learning(ML)`. Its goal is to create `neural networks` by itself. \n",
    "- TensorFlow: This is a library designed to do `ML`, hence the link between the two.\n",
    "- Keras: A `neural network` library written in `Python`. We would expect to see a link between those two.\n",
    "- Pandas: the standard library for working with tables in `Python`.\n",
    "- Dataframe: the standard output of `Pandas`\n",
    "- Scikit-learn: This is a module built for `Python`, built upon a lof of libraries, which are not included in this top10.\n",
    "- Classification: is a collection of `ML-algorithms` it classifies the different strategies an ML system could use.\n",
    "\n",
    "## Deep Learning, a fad?\n",
    "\n",
    "One of the questions on a lot of Data Scientists' mind is if deep learning is just a fad or not. Will it go away? What are the trends through time?\n",
    "\n",
    "I will use a larger dataset to cover this question. It has a lot more entries in time. \n",
    "\n",
    "**IMPORTANT** \n",
    "The distinction between Deep Learning and Machine Learning is if human intervention is needed or not. Similar to Neural Networks, Deep Learning generates Neural Networks, but there is no human intervention. It is all AI.\n",
    "Not in our top10, but also important is Reinforcement Learning, this is Deep learning where the AI does not have any data to start from but generates it through trial and error. \n",
    "\n",
    "Therefore I will treat Deep Learning and Reinforcement Learning as our main categories of interest."
   ]
  },
  {
   "cell_type": "code",
   "execution_count": 18,
   "metadata": {},
   "outputs": [
    {
     "data": {
      "text/plain": [
       "Id               int64\n",
       "CreationDate    object\n",
       "Tags            object\n",
       "dtype: object"
      ]
     },
     "execution_count": 18,
     "metadata": {},
     "output_type": "execute_result"
    }
   ],
   "source": [
    "# Reading in the new data\n",
    "SEDS_all = pd.read_csv(\"all_questions.csv\")\n",
    "SEDS_all.dtypes"
   ]
  },
  {
   "cell_type": "code",
   "execution_count": 19,
   "metadata": {},
   "outputs": [
    {
     "data": {
      "text/html": [
       "<div>\n",
       "<style scoped>\n",
       "    .dataframe tbody tr th:only-of-type {\n",
       "        vertical-align: middle;\n",
       "    }\n",
       "\n",
       "    .dataframe tbody tr th {\n",
       "        vertical-align: top;\n",
       "    }\n",
       "\n",
       "    .dataframe thead th {\n",
       "        text-align: right;\n",
       "    }\n",
       "</style>\n",
       "<table border=\"1\" class=\"dataframe\">\n",
       "  <thead>\n",
       "    <tr style=\"text-align: right;\">\n",
       "      <th></th>\n",
       "      <th>Id</th>\n",
       "      <th>CreationDate</th>\n",
       "      <th>Tags</th>\n",
       "    </tr>\n",
       "  </thead>\n",
       "  <tbody>\n",
       "    <tr>\n",
       "      <th>0</th>\n",
       "      <td>45416</td>\n",
       "      <td>201902</td>\n",
       "      <td>[python, keras, tensorflow, cnn, probability]</td>\n",
       "    </tr>\n",
       "    <tr>\n",
       "      <th>1</th>\n",
       "      <td>45418</td>\n",
       "      <td>201902</td>\n",
       "      <td>[neural-network]</td>\n",
       "    </tr>\n",
       "    <tr>\n",
       "      <th>2</th>\n",
       "      <td>45422</td>\n",
       "      <td>201902</td>\n",
       "      <td>[python, ibm-watson, chatbot]</td>\n",
       "    </tr>\n",
       "    <tr>\n",
       "      <th>3</th>\n",
       "      <td>45426</td>\n",
       "      <td>201902</td>\n",
       "      <td>[keras]</td>\n",
       "    </tr>\n",
       "    <tr>\n",
       "      <th>4</th>\n",
       "      <td>45427</td>\n",
       "      <td>201902</td>\n",
       "      <td>[r, predictive-modeling, machine-learning-mode...</td>\n",
       "    </tr>\n",
       "  </tbody>\n",
       "</table>\n",
       "</div>"
      ],
      "text/plain": [
       "      Id  CreationDate                                               Tags\n",
       "0  45416        201902      [python, keras, tensorflow, cnn, probability]\n",
       "1  45418        201902                                   [neural-network]\n",
       "2  45422        201902                      [python, ibm-watson, chatbot]\n",
       "3  45426        201902                                            [keras]\n",
       "4  45427        201902  [r, predictive-modeling, machine-learning-mode..."
      ]
     },
     "execution_count": 19,
     "metadata": {},
     "output_type": "execute_result"
    }
   ],
   "source": [
    "# Cleaning tags akin to above.\n",
    "SEDS_all[\"Tags\"] = SEDS_all[\"Tags\"].str.replace(\"^<|>$\", \"\").str.split(\"><\")\n",
    "\n",
    "# Converting creation date to yyyymm format.\n",
    "SEDS_all[\"CreationDate\"] = SEDS_all[\"CreationDate\"].astype(str).str.replace('-','').str[0:6].astype(int)\n",
    "\n",
    "SEDS_all.head()"
   ]
  },
  {
   "cell_type": "code",
   "execution_count": 20,
   "metadata": {},
   "outputs": [
    {
     "data": {
      "text/html": [
       "<div>\n",
       "<style scoped>\n",
       "    .dataframe tbody tr th:only-of-type {\n",
       "        vertical-align: middle;\n",
       "    }\n",
       "\n",
       "    .dataframe tbody tr th {\n",
       "        vertical-align: top;\n",
       "    }\n",
       "\n",
       "    .dataframe thead th {\n",
       "        text-align: right;\n",
       "    }\n",
       "</style>\n",
       "<table border=\"1\" class=\"dataframe\">\n",
       "  <thead>\n",
       "    <tr style=\"text-align: right;\">\n",
       "      <th></th>\n",
       "      <th>Id</th>\n",
       "      <th>CreationDate</th>\n",
       "      <th>Tags</th>\n",
       "    </tr>\n",
       "  </thead>\n",
       "  <tbody>\n",
       "    <tr>\n",
       "      <th>0</th>\n",
       "      <td>45416</td>\n",
       "      <td>201902</td>\n",
       "      <td>python</td>\n",
       "    </tr>\n",
       "    <tr>\n",
       "      <th>0</th>\n",
       "      <td>45416</td>\n",
       "      <td>201902</td>\n",
       "      <td>keras</td>\n",
       "    </tr>\n",
       "    <tr>\n",
       "      <th>0</th>\n",
       "      <td>45416</td>\n",
       "      <td>201902</td>\n",
       "      <td>tensorflow</td>\n",
       "    </tr>\n",
       "    <tr>\n",
       "      <th>0</th>\n",
       "      <td>45416</td>\n",
       "      <td>201902</td>\n",
       "      <td>cnn</td>\n",
       "    </tr>\n",
       "    <tr>\n",
       "      <th>0</th>\n",
       "      <td>45416</td>\n",
       "      <td>201902</td>\n",
       "      <td>probability</td>\n",
       "    </tr>\n",
       "  </tbody>\n",
       "</table>\n",
       "</div>"
      ],
      "text/plain": [
       "      Id  CreationDate         Tags\n",
       "0  45416        201902       python\n",
       "0  45416        201902        keras\n",
       "0  45416        201902   tensorflow\n",
       "0  45416        201902          cnn\n",
       "0  45416        201902  probability"
      ]
     },
     "execution_count": 20,
     "metadata": {},
     "output_type": "execute_result"
    }
   ],
   "source": [
    "tagex = SEDS_all.explode('Tags')\n",
    "tagex.head()"
   ]
  },
  {
   "cell_type": "code",
   "execution_count": 21,
   "metadata": {},
   "outputs": [
    {
     "name": "stdout",
     "output_type": "stream",
     "text": [
      "       CreationDate             Tags   0\n",
      "0            201405             .net   1\n",
      "1            201405       algorithms   2\n",
      "2            201405    apache-hadoop   3\n",
      "3            201405              aws   1\n",
      "4            201405          bigdata  11\n",
      "...             ...              ...  ..\n",
      "11078        202001             word   1\n",
      "11079        202001  word-embeddings   5\n",
      "11080        202001         word2vec   1\n",
      "11081        202001          xgboost   4\n",
      "11082        202001             yolo   4\n",
      "\n",
      "[11083 rows x 3 columns]\n"
     ]
    }
   ],
   "source": [
    "# I have grouped by creation date and counted the amout of tags. \n",
    "date_tags_group = tagex.groupby(['CreationDate','Tags'],as_index=False).size()\n",
    "date_tags_group = date_tags_group.reset_index()\n",
    "print(date_tags_group)"
   ]
  },
  {
   "cell_type": "markdown",
   "metadata": {},
   "source": [
    "**Now it is time to plot some graphs!**"
   ]
  },
  {
   "cell_type": "code",
   "execution_count": 22,
   "metadata": {},
   "outputs": [
    {
     "data": {
      "text/html": [
       "<div>\n",
       "<style scoped>\n",
       "    .dataframe tbody tr th:only-of-type {\n",
       "        vertical-align: middle;\n",
       "    }\n",
       "\n",
       "    .dataframe tbody tr th {\n",
       "        vertical-align: top;\n",
       "    }\n",
       "\n",
       "    .dataframe thead th {\n",
       "        text-align: right;\n",
       "    }\n",
       "</style>\n",
       "<table border=\"1\" class=\"dataframe\">\n",
       "  <thead>\n",
       "    <tr style=\"text-align: right;\">\n",
       "      <th></th>\n",
       "      <th>CreationDate</th>\n",
       "      <th>Tags</th>\n",
       "      <th>Count</th>\n",
       "    </tr>\n",
       "  </thead>\n",
       "  <tbody>\n",
       "    <tr>\n",
       "      <th>0</th>\n",
       "      <td>201405</td>\n",
       "      <td>.net</td>\n",
       "      <td>1</td>\n",
       "    </tr>\n",
       "    <tr>\n",
       "      <th>1</th>\n",
       "      <td>201405</td>\n",
       "      <td>algorithms</td>\n",
       "      <td>2</td>\n",
       "    </tr>\n",
       "    <tr>\n",
       "      <th>2</th>\n",
       "      <td>201405</td>\n",
       "      <td>apache-hadoop</td>\n",
       "      <td>3</td>\n",
       "    </tr>\n",
       "    <tr>\n",
       "      <th>3</th>\n",
       "      <td>201405</td>\n",
       "      <td>aws</td>\n",
       "      <td>1</td>\n",
       "    </tr>\n",
       "    <tr>\n",
       "      <th>4</th>\n",
       "      <td>201405</td>\n",
       "      <td>bigdata</td>\n",
       "      <td>11</td>\n",
       "    </tr>\n",
       "  </tbody>\n",
       "</table>\n",
       "</div>"
      ],
      "text/plain": [
       "   CreationDate           Tags  Count\n",
       "0        201405           .net      1\n",
       "1        201405     algorithms      2\n",
       "2        201405  apache-hadoop      3\n",
       "3        201405            aws      1\n",
       "4        201405        bigdata     11"
      ]
     },
     "execution_count": 22,
     "metadata": {},
     "output_type": "execute_result"
    }
   ],
   "source": [
    "# Converting the output back to DataFrame type.\n",
    "dtg = pd.DataFrame(date_tags_group)\n",
    "dtg.columns = ['CreationDate', 'Tags', 'Count']\n",
    "dtg.head()"
   ]
  },
  {
   "cell_type": "code",
   "execution_count": 23,
   "metadata": {},
   "outputs": [
    {
     "data": {
      "text/plain": [
       "<matplotlib.axes._subplots.AxesSubplot at 0x2316ea5c588>"
      ]
     },
     "execution_count": 23,
     "metadata": {},
     "output_type": "execute_result"
    },
    {
     "data": {
      "image/png": "[encoded data removed]",
      "text/plain": [
       "<Figure size 1080x360 with 1 Axes>"
      ]
     },
     "metadata": {
      "needs_background": "light"
     },
     "output_type": "display_data"
    }
   ],
   "source": [
    "# selecting the tags we would like starting with python\n",
    "Python = dtg[dtg['Tags'] == 'python'].reset_index()\n",
    "Python = Python.drop('index',axis=1)\n",
    "Python.plot.bar(x='CreationDate', y='Count', figsize=(15,5), title='Python')"
   ]
  },
  {
   "cell_type": "code",
   "execution_count": 24,
   "metadata": {},
   "outputs": [
    {
     "data": {
      "text/plain": [
       "<matplotlib.axes._subplots.AxesSubplot at 0x2316f409848>"
      ]
     },
     "execution_count": 24,
     "metadata": {},
     "output_type": "execute_result"
    },
    {
     "data": {
      "image/png": "[encoded data removed]",
      "text/plain": [
       "<Figure size 1080x360 with 1 Axes>"
      ]
     },
     "metadata": {
      "needs_background": "light"
     },
     "output_type": "display_data"
    }
   ],
   "source": [
    "#let's see what R does.\n",
    "R = dtg[dtg['Tags'] == 'r'].reset_index()\n",
    "R = R.drop('index',axis=1)\n",
    "R.plot.bar(x='CreationDate', y='Count', figsize=(15,5), title='R')"
   ]
  },
  {
   "cell_type": "code",
   "execution_count": 25,
   "metadata": {},
   "outputs": [
    {
     "data": {
      "text/plain": [
       "<matplotlib.axes._subplots.AxesSubplot at 0x2316ecc8b88>"
      ]
     },
     "execution_count": 25,
     "metadata": {},
     "output_type": "execute_result"
    },
    {
     "data": {
      "image/png": "[encoded data removed]",
      "text/plain": [
       "<Figure size 1080x360 with 1 Axes>"
      ]
     },
     "metadata": {
      "needs_background": "light"
     },
     "output_type": "display_data"
    }
   ],
   "source": [
    "#And now for our juicier questions\n",
    "DL = dtg[dtg['Tags'] == 'deep-learning'].reset_index()\n",
    "DL = DL.drop('index',axis=1)\n",
    "DL.plot.bar(x='CreationDate', y='Count', figsize=(15,5),title='Deep Learning')"
   ]
  },
  {
   "cell_type": "code",
   "execution_count": 26,
   "metadata": {},
   "outputs": [
    {
     "data": {
      "text/plain": [
       "<matplotlib.axes._subplots.AxesSubplot at 0x2316ed1b848>"
      ]
     },
     "execution_count": 26,
     "metadata": {},
     "output_type": "execute_result"
    },
    {
     "data": {
      "image/png": "[encoded data removed]",
      "text/plain": [
       "<Figure size 1080x360 with 1 Axes>"
      ]
     },
     "metadata": {
      "needs_background": "light"
     },
     "output_type": "display_data"
    }
   ],
   "source": [
    "RL = dtg[dtg['Tags'] == 'reinforcement-learning'].reset_index()\n",
    "RL = RL.drop('index',axis=1)\n",
    "RL.plot.bar(x='CreationDate', y='Count', figsize=(15,5), title = 'Reinforcment Learning')"
   ]
  },
  {
   "cell_type": "code",
   "execution_count": 27,
   "metadata": {},
   "outputs": [
    {
     "data": {
      "text/html": [
       "<div>\n",
       "<style scoped>\n",
       "    .dataframe tbody tr th:only-of-type {\n",
       "        vertical-align: middle;\n",
       "    }\n",
       "\n",
       "    .dataframe tbody tr th {\n",
       "        vertical-align: top;\n",
       "    }\n",
       "\n",
       "    .dataframe thead th {\n",
       "        text-align: right;\n",
       "    }\n",
       "</style>\n",
       "<table border=\"1\" class=\"dataframe\">\n",
       "  <thead>\n",
       "    <tr style=\"text-align: right;\">\n",
       "      <th></th>\n",
       "      <th>CreationDate</th>\n",
       "      <th>TotalPosts</th>\n",
       "    </tr>\n",
       "  </thead>\n",
       "  <tbody>\n",
       "    <tr>\n",
       "      <th>0</th>\n",
       "      <td>201405</td>\n",
       "      <td>152</td>\n",
       "    </tr>\n",
       "    <tr>\n",
       "      <th>1</th>\n",
       "      <td>201406</td>\n",
       "      <td>247</td>\n",
       "    </tr>\n",
       "    <tr>\n",
       "      <th>2</th>\n",
       "      <td>201407</td>\n",
       "      <td>183</td>\n",
       "    </tr>\n",
       "    <tr>\n",
       "      <th>3</th>\n",
       "      <td>201408</td>\n",
       "      <td>171</td>\n",
       "    </tr>\n",
       "    <tr>\n",
       "      <th>4</th>\n",
       "      <td>201409</td>\n",
       "      <td>119</td>\n",
       "    </tr>\n",
       "  </tbody>\n",
       "</table>\n",
       "</div>"
      ],
      "text/plain": [
       "   CreationDate  TotalPosts\n",
       "0        201405         152\n",
       "1        201406         247\n",
       "2        201407         183\n",
       "3        201408         171\n",
       "4        201409         119"
      ]
     },
     "execution_count": 27,
     "metadata": {},
     "output_type": "execute_result"
    }
   ],
   "source": [
    "#One thing we might have overlooked is the percentage of DL questions compared to the total.\n",
    "#Hence we group by date to see the total posts created.\n",
    "dtg_no_tag = dtg.drop('Tags', axis=1)\n",
    "total_counts = dtg_no_tag.groupby('CreationDate').sum().reset_index()\n",
    "total_counts.columns = ['CreationDate','TotalPosts']\n",
    "total_counts.head()"
   ]
  },
  {
   "cell_type": "code",
   "execution_count": 28,
   "metadata": {},
   "outputs": [
    {
     "data": {
      "text/html": [
       "<div>\n",
       "<style scoped>\n",
       "    .dataframe tbody tr th:only-of-type {\n",
       "        vertical-align: middle;\n",
       "    }\n",
       "\n",
       "    .dataframe tbody tr th {\n",
       "        vertical-align: top;\n",
       "    }\n",
       "\n",
       "    .dataframe thead th {\n",
       "        text-align: right;\n",
       "    }\n",
       "</style>\n",
       "<table border=\"1\" class=\"dataframe\">\n",
       "  <thead>\n",
       "    <tr style=\"text-align: right;\">\n",
       "      <th></th>\n",
       "      <th>CreationDate</th>\n",
       "      <th>Tags</th>\n",
       "      <th>Count</th>\n",
       "      <th>TotalPosts</th>\n",
       "    </tr>\n",
       "  </thead>\n",
       "  <tbody>\n",
       "    <tr>\n",
       "      <th>0</th>\n",
       "      <td>201406</td>\n",
       "      <td>deep-learning</td>\n",
       "      <td>1</td>\n",
       "      <td>247</td>\n",
       "    </tr>\n",
       "    <tr>\n",
       "      <th>1</th>\n",
       "      <td>201407</td>\n",
       "      <td>deep-learning</td>\n",
       "      <td>1</td>\n",
       "      <td>183</td>\n",
       "    </tr>\n",
       "    <tr>\n",
       "      <th>2</th>\n",
       "      <td>201410</td>\n",
       "      <td>deep-learning</td>\n",
       "      <td>1</td>\n",
       "      <td>160</td>\n",
       "    </tr>\n",
       "    <tr>\n",
       "      <th>3</th>\n",
       "      <td>201411</td>\n",
       "      <td>deep-learning</td>\n",
       "      <td>1</td>\n",
       "      <td>156</td>\n",
       "    </tr>\n",
       "    <tr>\n",
       "      <th>4</th>\n",
       "      <td>201412</td>\n",
       "      <td>deep-learning</td>\n",
       "      <td>4</td>\n",
       "      <td>211</td>\n",
       "    </tr>\n",
       "  </tbody>\n",
       "</table>\n",
       "</div>"
      ],
      "text/plain": [
       "   CreationDate           Tags  Count  TotalPosts\n",
       "0        201406  deep-learning      1         247\n",
       "1        201407  deep-learning      1         183\n",
       "2        201410  deep-learning      1         160\n",
       "3        201411  deep-learning      1         156\n",
       "4        201412  deep-learning      4         211"
      ]
     },
     "execution_count": 28,
     "metadata": {},
     "output_type": "execute_result"
    }
   ],
   "source": [
    "#Now we can merge the dataframes.\n",
    "DL = DL.merge(total_counts, on='CreationDate')\n",
    "DL.head()"
   ]
  },
  {
   "cell_type": "code",
   "execution_count": 30,
   "metadata": {},
   "outputs": [
    {
     "data": {
      "text/plain": [
       "<matplotlib.axes._subplots.AxesSubplot at 0x2316f6772c8>"
      ]
     },
     "execution_count": 30,
     "metadata": {},
     "output_type": "execute_result"
    },
    {
     "data": {
      "image/png": "[encoded data removed]",
      "text/plain": [
       "<Figure size 1080x360 with 1 Axes>"
      ]
     },
     "metadata": {
      "needs_background": "light"
     },
     "output_type": "display_data"
    }
   ],
   "source": [
    "#Let's add the percentage now\n",
    "DL[\"Percentage\"] = DL['Count'] / DL['TotalPosts']\n",
    "DL.plot.bar(x='CreationDate', y='Percentage', figsize=(15,5), title= 'Deep Learning Percentage')"
   ]
  },
  {
   "cell_type": "code",
   "execution_count": 31,
   "metadata": {},
   "outputs": [],
   "source": [
    "RL = RL.merge(total_counts, on='CreationDate')"
   ]
  },
  {
   "cell_type": "code",
   "execution_count": 33,
   "metadata": {},
   "outputs": [
    {
     "data": {
      "text/plain": [
       "<matplotlib.axes._subplots.AxesSubplot at 0x2316fb4d608>"
      ]
     },
     "execution_count": 33,
     "metadata": {},
     "output_type": "execute_result"
    },
    {
     "data": {
      "image/png": "[encoded data removed]",
      "text/plain": [
       "<Figure size 1080x360 with 1 Axes>"
      ]
     },
     "metadata": {
      "needs_background": "light"
     },
     "output_type": "display_data"
    }
   ],
   "source": [
    "RL[\"Percentage\"] = RL['Count'] / RL['TotalPosts']\n",
    "RL.plot.bar(x='CreationDate', y='Percentage', figsize=(15,5), title= 'Reinforcement Learning Percentage')"
   ]
  },
  {
   "cell_type": "code",
   "execution_count": 34,
   "metadata": {},
   "outputs": [],
   "source": [
    "Python = Python.merge(total_counts, on='CreationDate')"
   ]
  },
  {
   "cell_type": "code",
   "execution_count": 35,
   "metadata": {},
   "outputs": [
    {
     "data": {
      "text/plain": [
       "<matplotlib.axes._subplots.AxesSubplot at 0x2317009d188>"
      ]
     },
     "execution_count": 35,
     "metadata": {},
     "output_type": "execute_result"
    },
    {
     "data": {
      "image/png": "[encoded data removed]",
      "text/plain": [
       "<Figure size 1080x360 with 1 Axes>"
      ]
     },
     "metadata": {
      "needs_background": "light"
     },
     "output_type": "display_data"
    }
   ],
   "source": [
    "Python[\"Percentage\"] = Python['Count'] / Python['TotalPosts']\n",
    "Python.plot.bar(x='CreationDate', y='Percentage', figsize=(15,5), title= 'Python Percentage')"
   ]
  },
  {
   "cell_type": "markdown",
   "metadata": {},
   "source": [
    "# Results counts\n",
    "From counting the amount of tags through the years \n",
    "\n",
    "We can see that:\n",
    "\n",
    "- Deep Learning was peaking in 2019, now it is staying roughly the same. \n",
    "- Percentage wise Deep Learning has already passed its top. \n",
    "- There is a correlation between Python and Deep Learning.\n",
    "- Python has always been more popular than R. \n",
    "- Python is steadily increaing in percentage.\n",
    "- Reinforcement Learning is not that popular compared to the others, however, that field seems to be slowly increasing as well. If you forget about the drop in early 2020."
   ]
  },
  {
   "cell_type": "code",
   "execution_count": null,
   "metadata": {},
   "outputs": [],
   "source": []
  }
 ],
 "metadata": {
  "kernelspec": {
   "display_name": "Python 3",
   "language": "python",
   "name": "python3"
  },
  "language_info": {
   "codemirror_mode": {
    "name": "ipython",
    "version": 3
   },
   "file_extension": ".py",
   "mimetype": "text/x-python",
   "name": "python",
   "nbconvert_exporter": "python",
   "pygments_lexer": "ipython3",
   "version": "3.7.6"
  }
 },
 "nbformat": 4,
 "nbformat_minor": 2
}
